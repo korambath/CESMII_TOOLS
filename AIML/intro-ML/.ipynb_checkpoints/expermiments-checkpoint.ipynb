{
 "cells": [
  {
   "cell_type": "code",
   "execution_count": 2,
   "metadata": {},
   "outputs": [],
   "source": [
    "import numpy as np\n",
    "import matplotlib.pyplot as plt\n",
    "import matplotlib.animation as animation\n",
    "from IPython.display import HTML"
   ]
  },
  {
   "cell_type": "code",
   "execution_count": 3,
   "metadata": {},
   "outputs": [
    {
     "data": {
      "application/vnd.jupyter.widget-view+json": {
       "model_id": "3e989c4a656f488b96a7590cbabc315b",
       "version_major": 2,
       "version_minor": 0
      },
      "text/plain": [
       "interactive(children=(FloatSlider(value=0.0, description='m', max=2.0, min=-2.0), FloatSlider(value=0.0, descr…"
      ]
     },
     "metadata": {},
     "output_type": "display_data"
    }
   ],
   "source": [
    "%matplotlib inline\n",
    "from ipywidgets import interactive\n",
    "import matplotlib.pyplot as plt\n",
    "import numpy as np\n",
    "\n",
    "def f(m, b):\n",
    "    plt.figure(2)\n",
    "    x = np.linspace(-10, 10, num=1000)\n",
    "    plt.plot(x, m * x + b)\n",
    "    plt.ylim(-5, 5)\n",
    "    plt.show()\n",
    "\n",
    "interactive_plot = interactive(f, m=(-2.0, 2.0), b=(-3, 3, 0.5))\n",
    "output = interactive_plot.children[-1]\n",
    "output.layout.height = '350px'\n",
    "interactive_plot"
   ]
  },
  {
   "cell_type": "code",
   "execution_count": 14,
   "metadata": {},
   "outputs": [],
   "source": [
    "def logistic_function_example(x_min, x_max, learn_rate):\n",
    "\n",
    "    # Function to minize\n",
    "    def f(x):\n",
    "        return x**2 + 5 * x + 24\n",
    "\n",
    "    # Derivative of the function\n",
    "    def fd(x):\n",
    "        return 2*x + 5\n",
    "\n",
    "    #x_min = -30\n",
    "    #x_max = 30\n",
    "    #x_min = -60\n",
    "    #x_max = 60\n",
    "    x = np.linspace(x_min, x_max, 200)\n",
    "    y = f(x)\n",
    "    #r = 0.05  # Learning rate\n",
    "    #r = 0.8  # Learning rate\n",
    "    #r = 1.0  # Learning rate\n",
    "    r = learn_rate\n",
    "    x_est = 25  # Starting point\n",
    "    y_est = f(x_est)\n",
    "\n",
    "    def animate(i):\n",
    "        #global x_est\n",
    "        #global y_est\n",
    "\n",
    "        x_est = 25  # Starting point\n",
    "        y_est = f(x_est)\n",
    "\n",
    "\n",
    "        # Gradient descent\n",
    "        x_est = x_est - fd(x_est) * r\n",
    "        y_est = f(x_est)\n",
    "\n",
    "        # Update the plot\n",
    "        scat.set_offsets([[x_est,y_est]])\n",
    "        text.set_text(\"Value : %.2f\" % y_est)\n",
    "        line.set_data(x, y)\n",
    "        return line, scat, text\n",
    "\n",
    "    def init():\n",
    "        line.set_data([], [])\n",
    "        return line,\n",
    "\n",
    "    # Visualization Stuff\n",
    "    fig, ax = plt.subplots()\n",
    "    ax.set_xlim([x_min, x_max])\n",
    "    ax.set_ylim([-5, 1500])\n",
    "    ax.set_xlabel(\"x\")\n",
    "    ax.set_ylabel(\"f(x)\")\n",
    "    plt.title(\"Gradient Descent\")\n",
    "    line, = ax.plot([], [])\n",
    "    scat = ax.scatter([], [], c=\"red\")\n",
    "    text = ax.text(-25,1300,\"\")\n",
    "\n",
    "    ani = animation.FuncAnimation(fig, animate, 200,\n",
    "        init_func=init, interval=1000, blit=True)\n",
    "\n",
    "    HTML(ani.to_html5_video())"
   ]
  },
  {
   "cell_type": "code",
   "execution_count": 16,
   "metadata": {},
   "outputs": [
    {
     "data": {
      "application/vnd.jupyter.widget-view+json": {
       "model_id": "24890c67a5d64f668ccb5f0b6ba5d739",
       "version_major": 2,
       "version_minor": 0
      },
      "text/plain": [
       "interactive(children=(FloatSlider(value=-45.0, description='x_min', max=-30.0, min=-60.0), FloatSlider(value=4…"
      ]
     },
     "metadata": {},
     "output_type": "display_data"
    }
   ],
   "source": [
    "interactive_plot = interactive(logistic_function_example, x_min=(-60.0, -30.0), x_max=(30.0, 60.0), learn_rate=(0.01, 1.0))\n",
    "output = interactive_plot.children[-1]\n",
    "output.layout.height = '350px'\n",
    "interactive_plot"
   ]
  },
  {
   "cell_type": "code",
   "execution_count": 6,
   "metadata": {},
   "outputs": [],
   "source": [
    "import numpy as np\n",
    "\n",
    "from ipywidgets import Button, VBox, HBox, Label\n",
    "import bqplot.pyplot as plt\n",
    "from bqplot import LinearScale\n"
   ]
  },
  {
   "cell_type": "code",
   "execution_count": 7,
   "metadata": {},
   "outputs": [],
   "source": [
    "def linreg(x, y):\n",
    "    '''\n",
    "    computes intercept and slope for a simple\n",
    "    ols regression\n",
    "    '''\n",
    "    b = np.cov(x, y)[0, 1] / np.var(x)\n",
    "    a = np.mean(y) - b * np.mean(x)\n",
    "    return a, b"
   ]
  },
  {
   "cell_type": "code",
   "execution_count": 8,
   "metadata": {},
   "outputs": [],
   "source": [
    "x = np.linspace(-10, 10, 50)\n",
    "y = 5 * x + 7 + np.random.randn(50) * 20\n",
    "\n",
    "def update_regline(*args):\n",
    "    # update the y attribute of the reg_line with \n",
    "    # the results of running the ols regression on \n",
    "    # x and y attributes of the scatter plot\n",
    "    a, b = linreg(scatter.x, scatter.y)\n",
    "    reg_line.y = a + b * reg_line.x\n",
    "    \n",
    "    # update the equation label\n",
    "    equation_label.value = eqn_tmpl.format(a, b)\n",
    "\n",
    "# Add a scatter plot and a regression line on the same figure\n",
    "axes_options = {'x': {'label': 'X'},\n",
    "                'y': {'label': 'Y'}}\n",
    "fig = plt.figure(title='Linear Regression', animation_duration=1000)\n",
    "                 \n",
    "plt.scales(scales={'x': LinearScale(min=-30, max=30),\n",
    "                   'y': LinearScale(min=-150, max=150)})\n",
    "\n",
    "scatter = plt.scatter(x, y, colors=['orangered'], default_size=100, \n",
    "                      enable_move=True, interactions={'click': 'add'},\n",
    "                      stroke='black')\n",
    "reg_line = plt.plot(np.arange(-30, 31), [], 'g', stroke_width=8,\n",
    "                    opacities=[.5], axes_options=axes_options)\n",
    "\n",
    "fig.layout.width = '800px'\n",
    "fig.layout.height = '550px'\n",
    "\n",
    "reset_button = Button(description='Reset', button_style='success')\n",
    "reset_button.layout.margin = '0px 30px 0px 60px'\n",
    "\n",
    "eqn_tmpl = 'Regression Line: ${:.2f} + {:.2f}x$'\n",
    "equation_label = Label()\n",
    "\n",
    "def reset_points(*args):\n",
    "    '''\n",
    "    resets the scatter's x and y points \n",
    "    to the original values\n",
    "    '''\n",
    "    with scatter.hold_trait_notifications():\n",
    "        scatter.x = x\n",
    "        scatter.y = y\n",
    "\n",
    "# on button click reset the scatter points\n",
    "reset_button.on_click(lambda btn: reset_points())\n",
    "# recompute reg line when new points are added\n",
    "scatter.observe(update_regline, ['x', 'y'])\n",
    "\n",
    "# compute the reg line\n",
    "update_regline(None)"
   ]
  },
  {
   "cell_type": "code",
   "execution_count": 9,
   "metadata": {},
   "outputs": [
    {
     "data": {
      "application/vnd.jupyter.widget-view+json": {
       "model_id": "f6427d8135bd453c898264a59d21607c",
       "version_major": 2,
       "version_minor": 0
      },
      "text/plain": [
       "VBox(children=(Figure(animation_duration=1000, axes=[Axis(label='X', scale=LinearScale(max=30.0, min=-30.0)), …"
      ]
     },
     "metadata": {},
     "output_type": "display_data"
    }
   ],
   "source": [
    "VBox([fig, HBox([reset_button, equation_label])])"
   ]
  },
  {
   "cell_type": "code",
   "execution_count": 10,
   "metadata": {},
   "outputs": [
    {
     "data": {
      "application/vnd.jupyter.widget-view+json": {
       "model_id": "0770d6a9fd1440ac80a68f90c8e04dda",
       "version_major": 2,
       "version_minor": 0
      },
      "text/plain": [
       "VBox(children=(IntSlider(value=20, description='Number of points:', max=50, min=10, step=5), FloatSlider(value…"
      ]
     },
     "metadata": {},
     "output_type": "display_data"
    }
   ],
   "source": [
    "import numpy as np\n",
    "import ipywidgets as widgets\n",
    "import matplotlib.pyplot as plt\n",
    "\n",
    "class LinRegressDisplay:\n",
    "\n",
    "    def __init__(self, rand=3.0, num_points=20, slope=1.0):\n",
    "        self.rand = rand\n",
    "        self.num_points = num_points\n",
    "        self.slope = slope\n",
    "        self.output_widget = widgets.Output()  # will contain the plot\n",
    "        self.container = widgets.VBox()  # Contains the whole app\n",
    "        self.redraw_whole_plot()\n",
    "        self.draw_app()\n",
    "\n",
    "    def draw_app(self):\n",
    "        \"\"\"\n",
    "        Draw the sliders and the output widget\n",
    "\n",
    "        This just runs once at app startup.\n",
    "        \"\"\"\n",
    "        self.num_points_slider = widgets.IntSlider(\n",
    "            value=self.num_points,\n",
    "            min=10,\n",
    "            max=50,\n",
    "            step=5,\n",
    "            description='Number of points:'\n",
    "        )\n",
    "        self.num_points_slider.observe(self._on_num_points_change, ['value'])\n",
    "        self.slope_slider = widgets.FloatSlider(\n",
    "            value=self.slope,\n",
    "            min=-1,\n",
    "            max=5,\n",
    "            step=0.1,\n",
    "            description='Slope:'\n",
    "        )\n",
    "        self.slope_slider.observe(self._on_slope_change, ['value'])\n",
    "        self.rand_slider = widgets.FloatSlider(\n",
    "            value=self.rand,\n",
    "            min=0,\n",
    "            max=50,\n",
    "            step=3,\n",
    "            description='Randomness:', num_points=(10, 50, 5)\n",
    "        )\n",
    "        self.rand_slider.observe(self._on_rand_change, ['value'])\n",
    "        self.container.children = [\n",
    "            self.num_points_slider,\n",
    "            self.slope_slider,\n",
    "            self.rand_slider ,\n",
    "            self.output_widget\n",
    "        ]\n",
    "\n",
    "    def _on_num_points_change(self, _):\n",
    "        \"\"\"\n",
    "        Called whenever the number of points slider changes.\n",
    "\n",
    "        Updates the internal state, recomputes the random x and y and redraws the plot.\n",
    "        \"\"\"\n",
    "        self.num_points = self.num_points_slider.value\n",
    "        self.redraw_whole_plot()\n",
    "\n",
    "    def _on_slope_change(self, _):\n",
    "        \"\"\"\n",
    "        Called whenever the slope slider changes.\n",
    "\n",
    "        Updates the internal state, recomputes the slope and redraws the plot.\n",
    "        \"\"\"\n",
    "        self.slope = self.slope_slider.value\n",
    "        self.redraw_slope()\n",
    "\n",
    "    def _on_rand_change(self, _):\n",
    "        self.rand = self.rand_slider.value\n",
    "        self.redraw_whole_plot()\n",
    "\n",
    "    def redraw_whole_plot(self):\n",
    "        \"\"\"\n",
    "        Recompute x and y random variates and redraw whole plot\n",
    "\n",
    "        Called whenever the number of points or the randomness changes.\n",
    "        \"\"\"\n",
    "        pcent_rand = self.rand\n",
    "        pcent_decimal = pcent_rand/100\n",
    "        self.x = [\n",
    "            n*np.random.uniform(low=1-pcent_decimal, high=1+pcent_decimal) \n",
    "            for n in np.linspace(3, 9, self.num_points)\n",
    "        ]\n",
    "        self.y = [\n",
    "            n*np.random.uniform(low=1-pcent_decimal, high=1+pcent_decimal)\n",
    "            for n in np.linspace(3, 9, self.num_points)\n",
    "        ]\n",
    "        self.redraw_slope()\n",
    "\n",
    "    def redraw_slope(self):\n",
    "        \"\"\"\n",
    "        Recompute slope line and redraw whole plot\n",
    "\n",
    "        Called whenever the slope changes.\n",
    "        \"\"\"\n",
    "        a = np.linspace(0, 9, self.num_points)\n",
    "        b = [(self.slope * n) for n in a]\n",
    "\n",
    "        self.output_widget.clear_output(wait=True)\n",
    "        with self.output_widget as f:\n",
    "            plt.figure(figsize=(9, 9), dpi=80)\n",
    "            plt.ylim(ymax=max(self.y)+1)\n",
    "            plt.xlim(xmax=max(self.x)+1)\n",
    "\n",
    "            plt.scatter(self.x, self.y)\n",
    "            plt.plot(a, b)\n",
    "            plt.show()\n",
    "\n",
    "app = LinRegressDisplay()\n",
    "app.container  # actually display the widget"
   ]
  },
  {
   "cell_type": "code",
   "execution_count": null,
   "metadata": {},
   "outputs": [],
   "source": []
  }
 ],
 "metadata": {
  "kernelspec": {
   "display_name": "Python 3",
   "language": "python",
   "name": "python3"
  },
  "language_info": {
   "codemirror_mode": {
    "name": "ipython",
    "version": 3
   },
   "file_extension": ".py",
   "mimetype": "text/x-python",
   "name": "python",
   "nbconvert_exporter": "python",
   "pygments_lexer": "ipython3",
   "version": "3.6.3"
  }
 },
 "nbformat": 4,
 "nbformat_minor": 4
}
