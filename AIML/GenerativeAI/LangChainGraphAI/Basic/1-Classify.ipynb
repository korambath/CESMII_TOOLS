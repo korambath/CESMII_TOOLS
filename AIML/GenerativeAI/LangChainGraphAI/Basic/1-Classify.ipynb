{
 "cells": [
  {
   "cell_type": "markdown",
   "id": "933633fc-1687-4251-aa78-7e0ef6295644",
   "metadata": {},
   "source": [
    "https://python.langchain.com/docs/tutorials/agents/"
   ]
  },
  {
   "cell_type": "code",
   "execution_count": null,
   "id": "9b9693aa-d2c2-4ff4-963b-688b16edfb0b",
   "metadata": {},
   "outputs": [],
   "source": [
    "import os\n",
    "from dotenv import load_dotenv\n",
    "load_dotenv()\n",
    "from openai import OpenAI\n",
    "from langchain.chat_models import init_chat_model\n",
    "from langchain_core.messages import HumanMessage\n",
    "from langgraph.prebuilt import create_react_agent\n",
    "from langchain_core.messages import HumanMessage, SystemMessage\n",
    "from enum import Enum\n",
    "from langchain_google_genai import ChatGoogleGenerativeAI\n",
    "\n",
    "\n",
    "\n",
    "OPENAI_API_KEY=os.getenv(\"OPENAI_API_KEY\")\n",
    "TAVILY_API_KEY=os.getenv(\"TVLY_API_KEY\")\n",
    "TAVILY_API_KEY=os.getenv(\"TAVILY_API_KEY\")\n",
    "\n",
    "GOOGLE_API_KEY=os.getenv(\"GOOGLE_API_KEY\")\n",
    "LANGSMITH_API_KEY=os.getenv(\"LANGSMITH_API_KEY\")\n",
    "NVIDIA_API_KEY=os.getenv(\"NVIDIA_API_KEY\")\n"
   ]
  },
  {
   "cell_type": "code",
   "execution_count": null,
   "id": "2d347ca0-74a3-40df-b3b6-59155d836802",
   "metadata": {},
   "outputs": [],
   "source": [
    "print(bool(OPENAI_API_KEY))\n",
    "print(bool(GOOGLE_API_KEY))\n",
    "print(bool(NVIDIA_API_KEY))"
   ]
  },
  {
   "cell_type": "code",
   "execution_count": null,
   "id": "5bd8bf79-7458-4a17-949c-6f336e5571bf",
   "metadata": {},
   "outputs": [],
   "source": [
    "llm = init_chat_model(\"gemini-2.0-flash\", model_provider=\"google_genai\")\n",
    "llm = init_chat_model(\"gpt-4o-mini\", model_provider=\"openai\")\n",
    "#llm = init_chat_model(\"meta/llama3-70b-instruct\", model_provider=\"nvidia\")"
   ]
  },
  {
   "cell_type": "markdown",
   "id": "7bef9f58-46b3-4a0c-a036-c72e0970d579",
   "metadata": {},
   "source": [
    "Classify Text into Labels\n",
    "\n",
    "Tagging means labeling a document with classes such as:\n",
    "\n",
    "    Sentiment\n",
    "    Language\n",
    "    Style (formal, informal etc.)\n",
    "    Covered topics\n",
    "    Political tendency\n"
   ]
  },
  {
   "cell_type": "code",
   "execution_count": null,
   "id": "feca51e1-0b55-42c4-b828-1cc54f7b831a",
   "metadata": {},
   "outputs": [],
   "source": [
    "from langchain_core.prompts import ChatPromptTemplate\n",
    "from langchain_openai import ChatOpenAI\n",
    "from pydantic import BaseModel, Field\n",
    "\n",
    "tagging_prompt = ChatPromptTemplate.from_template(\n",
    "    \"\"\"\n",
    "Extract the desired information from the following passage.\n",
    "\n",
    "Only extract the properties mentioned in the 'Classification' function.\n",
    "\n",
    "Passage:\n",
    "{input}\n",
    "\"\"\"\n",
    ")\n",
    "\n",
    "\n",
    "class Classification(BaseModel):\n",
    "    sentiment: str = Field(description=\"The sentiment of the text\")\n",
    "    aggressiveness: int = Field(\n",
    "        description=\"How aggressive the text is on a scale from 1 to 10\"\n",
    "    )\n",
    "    language: str = Field(description=\"The language the text is written in\")\n",
    "\n",
    "\n",
    "# Structured LLM\n",
    "structured_llm = llm.with_structured_output(Classification)"
   ]
  },
  {
   "cell_type": "code",
   "execution_count": null,
   "id": "a943802c-d980-41de-b327-e4f16ddd1042",
   "metadata": {},
   "outputs": [],
   "source": [
    "inp = \"Estoy increiblemente contento de haberte conocido! Creo que seremos muy buenos amigos!\"\n",
    "prompt = tagging_prompt.invoke({\"input\": inp})\n",
    "response = structured_llm.invoke(prompt)\n",
    "\n",
    "response"
   ]
  },
  {
   "cell_type": "code",
   "execution_count": null,
   "id": "155087cd-9841-4fc5-85da-cf7e2c3ef8cb",
   "metadata": {},
   "outputs": [],
   "source": [
    "response.model_dump()"
   ]
  },
  {
   "cell_type": "code",
   "execution_count": null,
   "id": "234bd41e-792a-4d04-9f72-6d0e5672e607",
   "metadata": {},
   "outputs": [],
   "source": [
    "inp = \"Estoy muy enojado con vos! Te voy a dar tu merecido!\"\n",
    "prompt = tagging_prompt.invoke({\"input\": inp})\n",
    "response = structured_llm.invoke(prompt)\n",
    "\n",
    "response.model_dump()"
   ]
  },
  {
   "cell_type": "markdown",
   "id": "33c8c537-040d-4bc2-95e7-5fdafab400cf",
   "metadata": {},
   "source": [
    "Finer control\n",
    "\n",
    "Careful schema definition gives us more control over the model's output.\n",
    "\n",
    "Specifically, we can define:\n",
    "\n",
    "    Possible values for each property\n",
    "    Description to make sure that the model understands the property\n",
    "    Required properties to be returned\n",
    "\n",
    "Let's redeclare our Pydantic model to control for each of the previously mentioned aspects using enums:"
   ]
  },
  {
   "cell_type": "code",
   "execution_count": null,
   "id": "43a620e7-5486-47d9-9bf3-c7e01192152e",
   "metadata": {},
   "outputs": [],
   "source": [
    "class Classification(BaseModel):\n",
    "    sentiment: str = Field(..., enum=[\"happy\", \"neutral\", \"sad\"])\n",
    "    aggressiveness: int = Field(\n",
    "        ...,\n",
    "        description=\"describes how aggressive the statement is, the higher the number the more aggressive\",\n",
    "        enum=[1, 2, 3, 4, 5],\n",
    "    )\n",
    "    language: str = Field(\n",
    "        ..., enum=[\"spanish\", \"english\", \"french\", \"german\", \"italian\"]\n",
    "    )"
   ]
  },
  {
   "cell_type": "code",
   "execution_count": null,
   "id": "eac0cbe3-ae53-41b8-b962-cdae1cf83227",
   "metadata": {},
   "outputs": [],
   "source": [
    "tagging_prompt = ChatPromptTemplate.from_template(\n",
    "    \"\"\"\n",
    "Extract the desired information from the following passage.\n",
    "\n",
    "Only extract the properties mentioned in the 'Classification' function.\n",
    "\n",
    "Passage:\n",
    "{input}\n",
    "\"\"\"\n",
    ")\n",
    "\n",
    "llm = ChatOpenAI(temperature=0, model=\"gpt-4o-mini\").with_structured_output(\n",
    "    Classification\n",
    ")\n"
   ]
  },
  {
   "cell_type": "code",
   "execution_count": null,
   "id": "f7ce993c-6a2b-4ee7-a0dd-ab6aa3451732",
   "metadata": {},
   "outputs": [],
   "source": [
    "inp = \"Estoy increiblemente contento de haberte conocido! Creo que seremos muy buenos amigos!\"\n",
    "prompt = tagging_prompt.invoke({\"input\": inp})\n",
    "llm.invoke(prompt)"
   ]
  },
  {
   "cell_type": "code",
   "execution_count": null,
   "id": "e5ef3645-1a1e-46a7-b067-376a4b0c32d1",
   "metadata": {},
   "outputs": [],
   "source": [
    "inp = \"Estoy muy enojado con vos! Te voy a dar tu merecido!\"\n",
    "prompt = tagging_prompt.invoke({\"input\": inp})\n",
    "llm.invoke(prompt)"
   ]
  },
  {
   "cell_type": "code",
   "execution_count": null,
   "id": "bcbb692b-0a88-47a9-878c-c0351c9b3e0d",
   "metadata": {},
   "outputs": [],
   "source": [
    "inp = \"Weather is ok here, I can go outside without much more than a coat\"\n",
    "prompt = tagging_prompt.invoke({\"input\": inp})\n",
    "llm.invoke(prompt)"
   ]
  },
  {
   "cell_type": "code",
   "execution_count": null,
   "id": "c3885602-c524-4489-89cf-aee5efb91e5e",
   "metadata": {},
   "outputs": [],
   "source": [
    "class SentimentEnum(str, Enum):\n",
    "        happy = \"happy\"\n",
    "        neutral = \"neutral\"\n",
    "        sad = \"sad\"\n",
    "\n",
    "class AggressivenessEnum(str, Enum):\n",
    "        one = \"1\"\n",
    "        two = \"2\"\n",
    "        three = \"3\"\n",
    "        four = \"4\"\n",
    "        five = \"5\"\n",
    "\n",
    "class LanguageEnum(str, Enum):\n",
    "        spanish = \"spanish\"\n",
    "        english = \"english\"\n",
    "        french = \"french\"\n",
    "        german = \"german\"\n",
    "        italian = \"italian\"\n",
    "\n",
    "class Classification(BaseModel):\n",
    "        sentiment: SentimentEnum\n",
    "        aggressiveness: AggressivenessEnum = Field(\n",
    "            ..., description=\"describes how aggressive the statement is, the higher the number the more aggressive\"\n",
    "        )\n",
    "        language: LanguageEnum\n",
    "\n",
    "    # Structured LLM output\n",
    "llm = ChatGoogleGenerativeAI(model=\"gemini-2.0-flash\").with_structured_output(\n",
    "        Classification\n",
    ")\n",
    "\n",
    "# Run\n",
    "inp = \"Quieres tomarte un cafe? Hay una nueva cafeteria que tiene muy buena pinta.\"\n",
    "prompt = tagging_prompt.invoke({\"input\": inp})\n",
    "result = llm.invoke(prompt)\n",
    "print(result)\n",
    "print(result.sentiment, result.aggressiveness, result.language)\n"
   ]
  },
  {
   "cell_type": "code",
   "execution_count": null,
   "id": "0748c95e-8e61-49b6-9a71-a2aedf8a71e1",
   "metadata": {},
   "outputs": [],
   "source": []
  }
 ],
 "metadata": {
  "kernelspec": {
   "display_name": "Python 3 (ipykernel)",
   "language": "python",
   "name": "python3"
  },
  "language_info": {
   "codemirror_mode": {
    "name": "ipython",
    "version": 3
   },
   "file_extension": ".py",
   "mimetype": "text/x-python",
   "name": "python",
   "nbconvert_exporter": "python",
   "pygments_lexer": "ipython3",
   "version": "3.13.3"
  }
 },
 "nbformat": 4,
 "nbformat_minor": 5
}
