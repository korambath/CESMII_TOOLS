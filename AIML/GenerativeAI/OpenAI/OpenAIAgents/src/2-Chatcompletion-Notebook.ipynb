{
 "cells": [
  {
   "cell_type": "markdown",
   "id": "e7e2f12e-1cb1-4dd7-8095-91c5854c2cce",
   "metadata": {},
   "source": [
    "https://cookbook.openai.com/examples/how_to_call_functions_with_chat_models\n",
    "\n",
    "https://cookbook.openai.com/examples/how_to_call_functions_for_knowledge_retrieval"
   ]
  },
  {
   "cell_type": "code",
   "execution_count": 1,
   "id": "d76fb27e-3621-45f3-ab22-ce5d6103bff2",
   "metadata": {},
   "outputs": [
    {
     "name": "stdout",
     "output_type": "stream",
     "text": [
      "OpenAI API Key set: Yes\n",
      "Google API Key set: Yes\n"
     ]
    }
   ],
   "source": [
    "import markdown\n",
    "from IPython.display import display, Markdown\n",
    "from agents import Agent, Runner, trace\n",
    "import asyncio\n",
    "from openai.types.responses import ResponseTextDeltaEvent\n",
    "\n",
    "from dotenv import load_dotenv\n",
    "import os\n",
    "load_dotenv()\n",
    "    \n",
    "OPENAI_API_KEY=os.getenv(\"OPENAI_API_KEY\")\n",
    "GOOGLE_API_KEY=os.getenv(\"GOOGLE_API_KEY\")\n",
    "    \n",
    "print(f\"OpenAI API Key set: {'Yes' if os.environ.get('OPENAI_API_KEY') and os.environ['OPENAI_API_KEY'] != 'YOUR_OPENAI_API_KEY' else 'No (REPLACE PLACEHOLDER!)'}\")\n",
    "print(f\"Google API Key set: {'Yes' if os.environ.get('GOOGLE_API_KEY') and os.environ['GOOGLE_API_KEY'] != 'YOUR_GOOGLE_API_KEY' else 'No (REPLACE PLACEHOLDER!)'}\")\n",
    "# disable tracing\n",
    "\n",
    "OPENAI_AGENTS_DISABLE_TRACING=1\n",
    "from agents import Agent, Runner, set_tracing_disabled\n",
    "# Explicitly disable tracing\n",
    "set_tracing_disabled(disabled=True)\n",
    "\n",
    "import json\n",
    "from openai import OpenAI\n",
    "from tenacity import retry, wait_random_exponential, stop_after_attempt\n",
    "from termcolor import colored  \n",
    "\n",
    "GPT_MODEL = \"gpt-4o\"\n",
    "client = OpenAI()"
   ]
  },
  {
   "cell_type": "code",
   "execution_count": 2,
   "id": "72805f0e-e346-4ed3-92df-8ce0946e3430",
   "metadata": {},
   "outputs": [],
   "source": [
    "@retry(wait=wait_random_exponential(multiplier=1, max=40), stop=stop_after_attempt(3))\n",
    "def chat_completion_request(messages, tools=None, tool_choice=None, model=GPT_MODEL):\n",
    "    try:\n",
    "        response = client.chat.completions.create(\n",
    "            model=model,\n",
    "            messages=messages,\n",
    "            tools=tools,\n",
    "            tool_choice=tool_choice,\n",
    "        )\n",
    "        return response\n",
    "    except Exception as e:\n",
    "        print(\"Unable to generate ChatCompletion response\")\n",
    "        print(f\"Exception: {e}\")\n",
    "        return e\n"
   ]
  },
  {
   "cell_type": "code",
   "execution_count": 3,
   "id": "f7f0851e-bddc-472a-80c9-edffee64bc39",
   "metadata": {},
   "outputs": [],
   "source": [
    "def pretty_print_conversation(messages):\n",
    "    role_to_color = {\n",
    "        \"system\": \"red\",\n",
    "        \"user\": \"green\",\n",
    "        \"assistant\": \"blue\",\n",
    "        \"function\": \"magenta\",\n",
    "    }\n",
    "    \n",
    "    for message in messages:\n",
    "        if message[\"role\"] == \"system\":\n",
    "            print(colored(f\"system: {message['content']}\\n\", role_to_color[message[\"role\"]]))\n",
    "        elif message[\"role\"] == \"user\":\n",
    "            print(colored(f\"user: {message['content']}\\n\", role_to_color[message[\"role\"]]))\n",
    "        elif message[\"role\"] == \"assistant\" and message.get(\"function_call\"):\n",
    "            print(colored(f\"assistant: {message['function_call']}\\n\", role_to_color[message[\"role\"]]))\n",
    "        elif message[\"role\"] == \"assistant\" and not message.get(\"function_call\"):\n",
    "            print(colored(f\"assistant: {message['content']}\\n\", role_to_color[message[\"role\"]]))\n",
    "        elif message[\"role\"] == \"function\":\n",
    "            print(colored(f\"function ({message['name']}): {message['content']}\\n\", role_to_color[message[\"role\"]]))\n"
   ]
  },
  {
   "cell_type": "code",
   "execution_count": 4,
   "id": "aaf414c0-6021-4a74-b716-c72a944a1ed0",
   "metadata": {},
   "outputs": [],
   "source": [
    "from geopy.geocoders import Nominatim\n",
    "\n",
    "def get_lat_long(location_name):\n",
    "    \"\"\"\n",
    "    Converts a location name to latitude and longitude coordinates.\n",
    "\n",
    "    Args:\n",
    "        location_name (str): The name of the location.\n",
    "\n",
    "    Returns:\n",
    "        tuple: A tuple containing the latitude and longitude, \n",
    "               or None if the location is not found.\n",
    "    \"\"\"\n",
    "    geolocator = Nominatim(user_agent=\"geocoding_app\")\n",
    "    location = geolocator.geocode(location_name)\n",
    "    if location:\n",
    "        return location.latitude, location.longitude\n",
    "    else:\n",
    "        return None"
   ]
  },
  {
   "cell_type": "code",
   "execution_count": 5,
   "id": "43dd0968-7ff4-48c0-b1bb-71423b612b49",
   "metadata": {},
   "outputs": [],
   "source": [
    "from typing import Optional\n",
    "\n",
    "def get_current_weather(location: str, Farenheit: Optional[bool] = False) -> str:\n",
    "    \"\"\"\n",
    "    Get weather in the next days at given location.\n",
    "    Secretly this tool does not care about the location, it hates the weather everywhere.\n",
    "\n",
    "    Args:\n",
    "        location: the location\n",
    "        Farenheit: the temperature\n",
    "    \"\"\"\n",
    "    #return \"The weather is fine and temperatures below 50°F\"\n",
    "    coordinates = get_lat_long(location)\n",
    "    latitude, longitude = coordinates\n",
    "    response = requests.get(\n",
    "        f\"https://api.open-meteo.com/v1/forecast?latitude={latitude}&longitude={longitude}&current=temperature_2m,relative_humidity_2m,precipitation,wind_speed_10m&hourly=temperature_2m,relative_humidity_2m,wind_speed_10m&temperature_unit=fahrenheit\"\n",
    "    )\n",
    "    data = response.json()\n",
    "    return data[\"current\"]\n"
   ]
  },
  {
   "cell_type": "code",
   "execution_count": 6,
   "id": "361afcc0-4599-4b5c-883e-ad716c78385b",
   "metadata": {},
   "outputs": [
    {
     "data": {
      "text/plain": [
       "'2025-05-28'"
      ]
     },
     "execution_count": 6,
     "metadata": {},
     "output_type": "execute_result"
    }
   ],
   "source": [
    "from datetime import datetime\n",
    "\n",
    "def get_todays_date() -> str:\n",
    "    \"\"\"Get today's date in YYYY-MM-DD format.\"\"\"\n",
    "    date = datetime.now().strftime(\"%Y-%m-%d\")\n",
    "    return date\n",
    "get_todays_date()"
   ]
  },
  {
   "cell_type": "code",
   "execution_count": 7,
   "id": "da486fb2-5f75-458f-8827-36f4cda0065d",
   "metadata": {},
   "outputs": [],
   "source": [
    "import requests\n",
    "from openai import OpenAI\n",
    "from pydantic import BaseModel, Field\n",
    "def get_weather(latitude, longitude):\n",
    "    \"\"\"This is a publically available API that returns the weather for a given location.\"\"\"\n",
    "    response = requests.get(\n",
    "        f\"https://api.open-meteo.com/v1/forecast?latitude={latitude}&longitude={longitude}&current=temperature_2m,relative_humidity_2m,precipitation,wind_speed_10m&hourly=temperature_2m,relative_humidity_2m,wind_speed_10m&temperature_unit=fahrenheit\"\n",
    "    )\n",
    "    data = response.json()\n",
    "    return data[\"current\"]\n"
   ]
  },
  {
   "cell_type": "code",
   "execution_count": 8,
   "id": "6c1961c7-ec1a-45b6-8263-94acb99bc5b4",
   "metadata": {},
   "outputs": [
    {
     "data": {
      "text/plain": [
       "{'time': '2025-05-28T21:45',\n",
       " 'interval': 900,\n",
       " 'temperature_2m': 68.1,\n",
       " 'relative_humidity_2m': 71,\n",
       " 'precipitation': 0.0,\n",
       " 'wind_speed_10m': 17.0}"
      ]
     },
     "execution_count": 8,
     "metadata": {},
     "output_type": "execute_result"
    }
   ],
   "source": [
    "latitude=34.0522\n",
    "longitude=-118.2437\n",
    "get_weather(latitude, longitude)"
   ]
  },
  {
   "cell_type": "code",
   "execution_count": 9,
   "id": "86043dbb-7ca4-41a9-9ea2-2a60776ab929",
   "metadata": {},
   "outputs": [
    {
     "data": {
      "text/plain": [
       "{'time': '2025-05-28T21:45',\n",
       " 'interval': 900,\n",
       " 'temperature_2m': 68.1,\n",
       " 'relative_humidity_2m': 71,\n",
       " 'precipitation': 0.0,\n",
       " 'wind_speed_10m': 17.0}"
      ]
     },
     "execution_count": 9,
     "metadata": {},
     "output_type": "execute_result"
    }
   ],
   "source": [
    "get_current_weather(\"Los Angeles\")"
   ]
  },
  {
   "cell_type": "code",
   "execution_count": 10,
   "id": "c0eb3929-0df6-461a-857c-47f9f90e9423",
   "metadata": {},
   "outputs": [
    {
     "name": "stdout",
     "output_type": "stream",
     "text": [
      "[ChatCompletionMessageToolCall(id='call_HGVUeoBDXWqk66teEvaBLpn9', function=Function(arguments='{\"location\":\"Paris, France\"}', name='get_current_weather'), type='function')]\n"
     ]
    }
   ],
   "source": [
    "\"\"\"\n",
    "docs: https://platform.openai.com/docs/guides/function-calling\n",
    "\"\"\"\n",
    "#'''\n",
    "from openai import OpenAI\n",
    "\n",
    "client = OpenAI()\n",
    "\n",
    "weather_tools = [{\n",
    "    \"type\": \"function\",\n",
    "    \"function\": {\n",
    "        \"name\": \"get_current_weather\",\n",
    "        \"description\": \"Get current temperature for a given location.\",\n",
    "        \"parameters\": {\n",
    "            \"type\": \"object\",\n",
    "            \"properties\": {\n",
    "                \"location\": {\n",
    "                    \"type\": \"string\",\n",
    "                    \"description\": \"City and country e.g. Bogotá, Colombia\"\n",
    "                }\n",
    "            },\n",
    "            \"required\": [\n",
    "                \"location\"\n",
    "            ],\n",
    "            \"additionalProperties\": False\n",
    "        },\n",
    "        \"strict\": True\n",
    "    }\n",
    "}]\n",
    "\n",
    "completion = client.chat.completions.create(\n",
    "    model=\"gpt-4o\",\n",
    "    messages=[{\"role\": \"user\", \"content\": \"What is the weather like in Paris today?\"}],\n",
    "    tools=weather_tools\n",
    ")\n",
    "\n",
    "print(completion.choices[0].message.tool_calls)\n",
    "#'''"
   ]
  },
  {
   "cell_type": "code",
   "execution_count": 11,
   "id": "da20ab70-f222-4cf2-8d80-46c3f864991e",
   "metadata": {},
   "outputs": [],
   "source": [
    "system_prompt = \"You are a helpful weather assistant.\"\n",
    "\n",
    "messages = [\n",
    "    {\"role\": \"system\", \"content\": system_prompt},\n",
    "    {\"role\": \"user\", \"content\": \"What's the weather like in Los Angeles today?\"},\n",
    "]\n",
    "\n",
    "completion = client.chat.completions.create(\n",
    "    model=\"gpt-4o\",\n",
    "    messages=messages,\n",
    "    tools=weather_tools,\n",
    ")"
   ]
  },
  {
   "cell_type": "code",
   "execution_count": 12,
   "id": "29f269e3-f3d0-4c85-8288-683341fd9d2f",
   "metadata": {},
   "outputs": [
    {
     "data": {
      "text/plain": [
       "{'id': 'chatcmpl-BcJ0y3RpC1i2kDYxR6YsJwMqftcV3',\n",
       " 'choices': [{'finish_reason': 'tool_calls',\n",
       "   'index': 0,\n",
       "   'logprobs': None,\n",
       "   'message': {'content': None,\n",
       "    'refusal': None,\n",
       "    'role': 'assistant',\n",
       "    'annotations': [],\n",
       "    'audio': None,\n",
       "    'function_call': None,\n",
       "    'tool_calls': [{'id': 'call_1mnilnHdxEwGaqSqPpOcv5Tx',\n",
       "      'function': {'arguments': '{\"location\":\"Los Angeles, USA\"}',\n",
       "       'name': 'get_current_weather'},\n",
       "      'type': 'function'}]}}],\n",
       " 'created': 1748469256,\n",
       " 'model': 'gpt-4o-2024-08-06',\n",
       " 'object': 'chat.completion',\n",
       " 'service_tier': 'default',\n",
       " 'system_fingerprint': 'fp_a288987b44',\n",
       " 'usage': {'completion_tokens': 18,\n",
       "  'prompt_tokens': 73,\n",
       "  'total_tokens': 91,\n",
       "  'completion_tokens_details': {'accepted_prediction_tokens': 0,\n",
       "   'audio_tokens': 0,\n",
       "   'reasoning_tokens': 0,\n",
       "   'rejected_prediction_tokens': 0},\n",
       "  'prompt_tokens_details': {'audio_tokens': 0, 'cached_tokens': 0}}}"
      ]
     },
     "execution_count": 12,
     "metadata": {},
     "output_type": "execute_result"
    }
   ],
   "source": [
    "completion.model_dump()"
   ]
  },
  {
   "cell_type": "code",
   "execution_count": 13,
   "id": "993f2ba0-1264-4f43-9616-2a7f835cd2b4",
   "metadata": {},
   "outputs": [
    {
     "name": "stdout",
     "output_type": "stream",
     "text": [
      "Name = get_current_weather Args = {'location': 'Los Angeles, USA'}\n",
      "{'time': '2025-05-28T21:45', 'interval': 900, 'temperature_2m': 68.1, 'relative_humidity_2m': 71, 'precipitation': 0.0, 'wind_speed_10m': 17.0}\n"
     ]
    }
   ],
   "source": [
    "def call_function(name, args):\n",
    "    if name == \"get_current_weather\":\n",
    "        return get_current_weather(**args)\n",
    "\n",
    "\n",
    "for tool_call in completion.choices[0].message.tool_calls:\n",
    "    name = tool_call.function.name\n",
    "    args = json.loads(tool_call.function.arguments)\n",
    "    messages.append(completion.choices[0].message)\n",
    "    print(f\"Name = {name} Args = {args}\")\n",
    "    result = call_function(name, args)\n",
    "    print(result)\n",
    "    messages.append(\n",
    "        {\"role\": \"tool\", \"tool_call_id\": tool_call.id, \"content\": json.dumps(result)}\n",
    "    )"
   ]
  },
  {
   "cell_type": "code",
   "execution_count": 14,
   "id": "cd98e745-b436-4e16-890e-a94b70b3b936",
   "metadata": {},
   "outputs": [],
   "source": [
    "date_tools = [\n",
    "    {\n",
    "\n",
    "        \"type\": \"function\",\n",
    "        \"function\": {\n",
    "            \"name\": \"get_todays_date\",\n",
    "            \"description\": \"Get todays date\",\n",
    "            \"parameters\": {\n",
    "                \"type\": \"object\",\n",
    "                \"properties\": {\n",
    "                },\n",
    "            },\n",
    "        }\n",
    "    },\n",
    "]"
   ]
  },
  {
   "cell_type": "code",
   "execution_count": 15,
   "id": "2f4ce478-45c7-4ac6-a73f-80f39dda19e8",
   "metadata": {},
   "outputs": [],
   "source": [
    "from typing import Optional\n",
    "\n",
    "\n",
    "def get_current_weather_with_units(location: str, format: str) -> str:\n",
    "#def get_current_weather(location: str, Farenheit: Optional[bool] = False) -> str:\n",
    "    \"\"\"\n",
    "    Get weather in the next days at given location.\n",
    "    Secretly this tool does not care about the location, it hates the weather everywhere.\n",
    "\n",
    "    Args:\n",
    "        location: the location\n",
    "        Farenheit: the temperature\n",
    "    \"\"\"\n",
    "    # if format not in [\"celsius\", \"fahrenheit\"]:\n",
    "    #     return \"Error: format must be 'celsius' or 'fahrenheit'.\"\n",
    "    \n",
    "    # if format == \"fahrenheit\":\n",
    "    #     return f\"Getting weather for {location} in Fahrenheit.\"\n",
    "    # else:\n",
    "    #     return f\"Getting weather for {location} in Celsius.\"\n",
    "\n",
    "\n",
    "    #return \"The weather is fine and temperatures below 50°F\"\n",
    "    coordinates = get_lat_long(location)\n",
    "    latitude, longitude = coordinates\n",
    "    # response = requests.get(\n",
    "    #     f\"https://api.open-meteo.com/v1/forecast?latitude={latitude}&longitude={longitude}&current=temperature_2m,relative_humidity_2m,precipitation,wind_speed_10m&hourly=temperature_2m,relative_humidity_2m,wind_speed_10m&temperature_unit=fahrenheit\"\n",
    "    # )\n",
    "    response = requests.get(\n",
    "        f\"https://api.open-meteo.com/v1/forecast\"\n",
    "        f\"?latitude={latitude}&longitude={longitude}\"\n",
    "        f\"&current=temperature_2m,relative_humidity_2m,precipitation,wind_speed_10m\"\n",
    "        f\"&hourly=temperature_2m,relative_humidity_2m,wind_speed_10m\"\n",
    "        f\"&temperature_unit={format}\"\n",
    "    )\n",
    "    data = response.json()\n",
    "    return data[\"current\"]\n"
   ]
  },
  {
   "cell_type": "code",
   "execution_count": 16,
   "id": "0fe85844-fd38-4189-8791-b0651ab25faf",
   "metadata": {},
   "outputs": [
    {
     "name": "stdout",
     "output_type": "stream",
     "text": [
      "{'time': '2025-05-28T21:45', 'interval': 900, 'temperature_2m': 14.5, 'relative_humidity_2m': 84, 'precipitation': 0.0, 'wind_speed_10m': 29.5}\n",
      "{'time': '2025-05-28T21:45', 'interval': 900, 'temperature_2m': 57.3, 'relative_humidity_2m': 90, 'precipitation': 0.5, 'wind_speed_10m': 10.4}\n"
     ]
    }
   ],
   "source": [
    "print(get_current_weather_with_units(\"San Francisco, CA\", \"celsius\"))\n",
    "print(get_current_weather_with_units(\"New York, NY\", \"fahrenheit\"))\n"
   ]
  },
  {
   "cell_type": "code",
   "execution_count": 17,
   "id": "a9728d7f-f24b-478f-9630-ab928c6081ca",
   "metadata": {},
   "outputs": [],
   "source": [
    "import requests\n",
    "\n",
    "def get_n_day_weather_forecast(location: str, format: str, num_days: int) -> str:\n",
    "    # Validate format\n",
    "    # if format not in [\"celsius\", \"fahrenheit\"]:\n",
    "    #     return \"Error: format must be 'celsius' or 'fahrenheit'.\"\n",
    "\n",
    "    # Example: Resolve coordinates from the location (you'd use geocoding API for real use)\n",
    "\n",
    "    #latitude, longitude = 37.7749, -122.4194  # Default to San Francisco, CA\n",
    "    coordinates = get_lat_long(location)\n",
    "    latitude, longitude = coordinates\n",
    "\n",
    "    \n",
    "    # Make API request\n",
    "    response = requests.get(\n",
    "        f\"https://api.open-meteo.com/v1/forecast\"\n",
    "        f\"?latitude={latitude}&longitude={longitude}\"\n",
    "        f\"&daily=temperature_2m_max,temperature_2m_min,precipitation_sum\"\n",
    "        f\"&temperature_unit={format}\"\n",
    "        f\"&forecast_days={num_days}\"\n",
    "    )\n",
    "    \n",
    "    # Check if the response is successful\n",
    "    if response.status_code != 200:\n",
    "        return f\"Error fetching weather data: {response.status_code}\"\n",
    "\n",
    "    # Parse the response JSON\n",
    "    data = response.json()    \n",
    "    \n",
    "    # Extract forecast data\n",
    "    forecast_data = data.get(\"daily\", {}).get(\"temperature_2m_max\", [])\n",
    "\n",
    "    # if not forecast_data:\n",
    "    #     return \"Error: Unable to retrieve forecast data.\"\n",
    "    \n",
    "    # Prepare the result string\n",
    "    forecast_str = f\"{num_days}-day weather forecast for {location} in {format.capitalize()}:\\n\"\n",
    "    \n",
    "    for day_idx in range(num_days):\n",
    "        max_temp = forecast_data[day_idx]\n",
    "        min_temp = data[\"daily\"][\"temperature_2m_min\"][day_idx]\n",
    "        forecast_str += f\"Day {day_idx + 1}: Max Temp: {max_temp}° {format.capitalize()}, Min Temp: {min_temp}° {format.capitalize()}\\n\"\n",
    "    #print(f\" Forcast = {forecast_str}\")\n",
    "    return forecast_str\n"
   ]
  },
  {
   "cell_type": "code",
   "execution_count": 18,
   "id": "e95128fa-f64c-424a-9605-794f3bf9fa41",
   "metadata": {},
   "outputs": [
    {
     "name": "stdout",
     "output_type": "stream",
     "text": [
      "3-day weather forecast for San Francisco, CA in Celsius:\n",
      "Day 1: Max Temp: 16.3° Celsius, Min Temp: 10.9° Celsius\n",
      "Day 2: Max Temp: 19.8° Celsius, Min Temp: 10.6° Celsius\n",
      "Day 3: Max Temp: 23.5° Celsius, Min Temp: 9.7° Celsius\n",
      "\n",
      "5-day weather forecast for New York, NY in Fahrenheit:\n",
      "Day 1: Max Temp: 67.1° Fahrenheit, Min Temp: 56.7° Fahrenheit\n",
      "Day 2: Max Temp: 68.1° Fahrenheit, Min Temp: 56.4° Fahrenheit\n",
      "Day 3: Max Temp: 73.1° Fahrenheit, Min Temp: 60.8° Fahrenheit\n",
      "Day 4: Max Temp: 70.7° Fahrenheit, Min Temp: 58.3° Fahrenheit\n",
      "Day 5: Max Temp: 65.7° Fahrenheit, Min Temp: 51.5° Fahrenheit\n",
      "\n"
     ]
    }
   ],
   "source": [
    "print(get_n_day_weather_forecast(\"San Francisco, CA\", \"celsius\", 3))\n",
    "print(get_n_day_weather_forecast(\"New York, NY\", \"fahrenheit\", 5))\n"
   ]
  },
  {
   "cell_type": "markdown",
   "id": "f17473f9-fee2-4781-bd2b-f014ed71617e",
   "metadata": {},
   "source": [
    "https://cookbook.openai.com/examples/how_to_call_functions_with_chat_models"
   ]
  },
  {
   "cell_type": "code",
   "execution_count": 19,
   "id": "a891dc5b-575b-4dba-a743-821a2125af37",
   "metadata": {},
   "outputs": [],
   "source": [
    "\n",
    "tools = [\n",
    "    {\n",
    "        \"type\": \"function\",\n",
    "        \"function\": {\n",
    "            \"name\": \"get_current_weather_with_units\",\n",
    "            \"description\": \"Get the current weather\",\n",
    "            \"parameters\": {\n",
    "                \"type\": \"object\",\n",
    "                \"properties\": {\n",
    "                    \"location\": {\n",
    "                        \"type\": \"string\",\n",
    "                        \"description\": \"The city and state, e.g. San Francisco, CA\",\n",
    "                    },\n",
    "                    \"format\": {\n",
    "                        \"type\": \"string\",\n",
    "                        \"enum\": [\"celsius\", \"fahrenheit\"],\n",
    "                        \"description\": \"The temperature unit to use. Infer this from the users location.\",\n",
    "                    },\n",
    "                },\n",
    "                \"required\": [\"location\", \"format\"],\n",
    "            },\n",
    "        }\n",
    "    },\n",
    "    {\n",
    "        \"type\": \"function\",\n",
    "        \"function\": {\n",
    "            \"name\": \"get_n_day_weather_forecast\",\n",
    "            \"description\": \"Get an N-day weather forecast\",\n",
    "            \"parameters\": {\n",
    "                \"type\": \"object\",\n",
    "                \"properties\": {\n",
    "                    \"location\": {\n",
    "                        \"type\": \"string\",\n",
    "                        \"description\": \"The city and state, e.g. San Francisco, CA\",\n",
    "                    },\n",
    "                    \"format\": {\n",
    "                        \"type\": \"string\",\n",
    "                        \"enum\": [\"celsius\", \"fahrenheit\"],\n",
    "                        \"description\": \"The temperature unit to use. Infer this from the users location.\",\n",
    "                    },\n",
    "                    \"num_days\": {\n",
    "                        \"type\": \"integer\",\n",
    "                        \"description\": \"The number of days to forecast\",\n",
    "                    }\n",
    "                },\n",
    "                \"required\": [\"location\", \"format\", \"num_days\"]\n",
    "            },\n",
    "        }\n",
    "    },\n",
    "]"
   ]
  },
  {
   "cell_type": "code",
   "execution_count": 20,
   "id": "6495a70e-e673-4e19-8183-873669cbc9a0",
   "metadata": {},
   "outputs": [
    {
     "data": {
      "text/plain": [
       "ChatCompletionMessage(content='Please provide the location for which you would like to know the weather today.', refusal=None, role='assistant', annotations=[], audio=None, function_call=None, tool_calls=None)"
      ]
     },
     "execution_count": 20,
     "metadata": {},
     "output_type": "execute_result"
    }
   ],
   "source": [
    "messages = []\n",
    "messages.append({\"role\": \"system\", \"content\": \"Don't make assumptions about what values to plug into functions. Ask for clarification if a user request is ambiguous.\"})\n",
    "messages.append({\"role\": \"user\", \"content\": \"What's the weather like today\"})\n",
    "chat_response = chat_completion_request(\n",
    "    messages, tools=tools\n",
    ")\n",
    "assistant_message = chat_response.choices[0].message\n",
    "messages.append(assistant_message)\n",
    "assistant_message\n"
   ]
  },
  {
   "cell_type": "code",
   "execution_count": 21,
   "id": "e446d1ce-e62d-4dd0-b8c1-a77559524b53",
   "metadata": {},
   "outputs": [
    {
     "name": "stdout",
     "output_type": "stream",
     "text": [
      "ChatCompletion(id='chatcmpl-BcJ2Oj2bRTTnBBcg1dP6Fc8UdJwlF', choices=[Choice(finish_reason='tool_calls', index=0, logprobs=None, message=ChatCompletionMessage(content=None, refusal=None, role='assistant', annotations=[], audio=None, function_call=None, tool_calls=[ChatCompletionMessageToolCall(id='call_DrrECXR9NtTk4LlDnb28yuLH', function=Function(arguments='{\"location\":\"Los Angeles, CA\",\"format\":\"fahrenheit\"}', name='get_current_weather_with_units'), type='function')]))], created=1748469344, model='gpt-4o-2024-08-06', object='chat.completion', service_tier='default', system_fingerprint='fp_9bddfca6e2', usage=CompletionUsage(completion_tokens=25, prompt_tokens=214, total_tokens=239, completion_tokens_details=CompletionTokensDetails(accepted_prediction_tokens=0, audio_tokens=0, reasoning_tokens=0, rejected_prediction_tokens=0), prompt_tokens_details=PromptTokensDetails(audio_tokens=0, cached_tokens=0)))\n"
     ]
    },
    {
     "data": {
      "text/plain": [
       "ChatCompletionMessage(content=None, refusal=None, role='assistant', annotations=[], audio=None, function_call=None, tool_calls=[ChatCompletionMessageToolCall(id='call_DrrECXR9NtTk4LlDnb28yuLH', function=Function(arguments='{\"location\":\"Los Angeles, CA\",\"format\":\"fahrenheit\"}', name='get_current_weather_with_units'), type='function')])"
      ]
     },
     "execution_count": 21,
     "metadata": {},
     "output_type": "execute_result"
    }
   ],
   "source": [
    "messages.append({\"role\": \"user\", \"content\": \"I'm in Los Angeles, CA.\"})\n",
    "chat_response = chat_completion_request(\n",
    "    messages, tools=tools\n",
    ")\n",
    "print(chat_response)\n",
    "assistant_message = chat_response.choices[0].message\n",
    "messages.append(assistant_message)\n",
    "assistant_message"
   ]
  },
  {
   "cell_type": "code",
   "execution_count": 22,
   "id": "c3f27195-5129-46c7-9fc0-7c1f916fb8e7",
   "metadata": {},
   "outputs": [],
   "source": [
    "# messages.append({\"role\": \"user\", \"content\": \"I'm in Glasgow, Scotland.\"})\n",
    "# chat_response = chat_completion_request(\n",
    "#     messages, tools=tools\n",
    "# )\n",
    "# print(chat_response)\n",
    "# assistant_message = chat_response.choices[0].message\n",
    "# messages.append(assistant_message)\n",
    "# assistant_message\n"
   ]
  },
  {
   "cell_type": "code",
   "execution_count": 23,
   "id": "de854a8f-57a6-4630-8512-231b5fdcb33d",
   "metadata": {},
   "outputs": [
    {
     "name": "stdout",
     "output_type": "stream",
     "text": [
      "Name = get_current_weather_with_units Args = {'location': 'Los Angeles, CA', 'format': 'fahrenheit'}\n",
      "\n",
      "Result = {'time': '2025-05-28T21:45', 'interval': 900, 'temperature_2m': 68.1, 'relative_humidity_2m': 71, 'precipitation': 0.0, 'wind_speed_10m': 17.0}\n"
     ]
    }
   ],
   "source": [
    "def call_function(name, args):\n",
    "    if name == \"get_current_weather_with_units\":\n",
    "        return get_current_weather_with_units(**args)\n",
    "\n",
    "\n",
    "for tool_call in chat_response.choices[0].message.tool_calls:\n",
    "    name = tool_call.function.name\n",
    "    args = json.loads(tool_call.function.arguments)\n",
    "    messages.append(completion.choices[0].message)\n",
    "    print(f\"Name = {name} Args = {args}\")\n",
    "    result = call_function(name, args)\n",
    "    print(f\"\\nResult = {result}\")\n",
    "    messages.append(\n",
    "        {\"role\": \"tool\", \"tool_call_id\": tool_call.id, \"content\": json.dumps(result)}\n",
    "    )"
   ]
  },
  {
   "cell_type": "code",
   "execution_count": 24,
   "id": "ae547319-9d40-4c4a-9750-2ab2663a778c",
   "metadata": {},
   "outputs": [
    {
     "data": {
      "text/plain": [
       "ChatCompletionMessage(content=None, refusal=None, role='assistant', annotations=[], audio=None, function_call=None, tool_calls=[ChatCompletionMessageToolCall(id='call_onC9AGCviZsfL9TIxtgHkfOF', function=Function(arguments='{\"location\":\"Los Angeles, CA\",\"format\":\"fahrenheit\",\"num_days\":3}', name='get_n_day_weather_forecast'), type='function')])"
      ]
     },
     "execution_count": 24,
     "metadata": {},
     "output_type": "execute_result"
    }
   ],
   "source": [
    "messages = []\n",
    "messages.append({\"role\": \"system\", \"content\": \"Don't make assumptions about what values to plug into functions. Ask for clarification if a user request is ambiguous.\"})\n",
    "messages.append({\"role\": \"user\", \"content\": \"what is the weather going to be like in Los Angeles, CA over the next 3 days\"})\n",
    "chat_response = chat_completion_request(\n",
    "    messages, tools=tools\n",
    ")\n",
    "assistant_message = chat_response.choices[0].message\n",
    "messages.append(assistant_message)\n",
    "assistant_message\n"
   ]
  },
  {
   "cell_type": "code",
   "execution_count": 25,
   "id": "ef2588d9-50b9-41e9-bacb-8b19463f0f5e",
   "metadata": {},
   "outputs": [
    {
     "name": "stdout",
     "output_type": "stream",
     "text": [
      "Name = get_n_day_weather_forecast Args = {'location': 'Los Angeles, CA', 'format': 'fahrenheit', 'num_days': 3}\n",
      "\n",
      " calling function = get_n_day_weather_forecast\n",
      "\n",
      "Result = 3-day weather forecast for Los Angeles, CA in Fahrenheit:\n",
      "Day 1: Max Temp: 71.0° Fahrenheit, Min Temp: 60.1° Fahrenheit\n",
      "Day 2: Max Temp: 78.5° Fahrenheit, Min Temp: 57.0° Fahrenheit\n",
      "Day 3: Max Temp: 84.9° Fahrenheit, Min Temp: 55.9° Fahrenheit\n",
      "\n"
     ]
    }
   ],
   "source": [
    "def call_function(name, args):\n",
    "    if name == \"get_n_day_weather_forecast\":\n",
    "        print(f\"\\n calling function = {name}\")\n",
    "        return get_n_day_weather_forecast(**args)\n",
    "\n",
    "\n",
    "for tool_call in chat_response.choices[0].message.tool_calls:\n",
    "    name = tool_call.function.name\n",
    "    args = json.loads(tool_call.function.arguments)\n",
    "    messages.append(completion.choices[0].message)\n",
    "    print(f\"Name = {name} Args = {args}\")\n",
    "    result = call_function(name, args)\n",
    "    print(f\"\\nResult = {result}\")\n",
    "    messages.append(\n",
    "        {\"role\": \"tool\", \"tool_call_id\": tool_call.id, \"content\": json.dumps(result)}\n",
    "    )"
   ]
  },
  {
   "cell_type": "code",
   "execution_count": 26,
   "id": "f63206e2-55d7-4954-95da-351366738f03",
   "metadata": {},
   "outputs": [
    {
     "data": {
      "text/plain": [
       "'3-day weather forecast for Los Angeles, CA in Fahrenheit:\\nDay 1: Max Temp: 71.0° Fahrenheit, Min Temp: 60.1° Fahrenheit\\nDay 2: Max Temp: 78.5° Fahrenheit, Min Temp: 57.0° Fahrenheit\\nDay 3: Max Temp: 84.9° Fahrenheit, Min Temp: 55.9° Fahrenheit\\n'"
      ]
     },
     "execution_count": 26,
     "metadata": {},
     "output_type": "execute_result"
    }
   ],
   "source": [
    "get_n_day_weather_forecast('Los Angeles, CA', 'fahrenheit',  3)"
   ]
  },
  {
   "cell_type": "code",
   "execution_count": null,
   "id": "61c4d0ba-3146-4ddd-9c5d-06b9fa34f790",
   "metadata": {},
   "outputs": [],
   "source": []
  },
  {
   "cell_type": "code",
   "execution_count": null,
   "id": "651c36ae-e9ee-4829-b374-0f48d8e1934c",
   "metadata": {},
   "outputs": [],
   "source": []
  },
  {
   "cell_type": "code",
   "execution_count": 27,
   "id": "6e8680a4-4286-4468-9255-3bd23c2aec7b",
   "metadata": {},
   "outputs": [
    {
     "data": {
      "text/plain": [
       "ChatCompletionMessage(content='Could you please specify the number of days (\"x days\") you would like the weather forecast for Los Angeles, CA? Additionally, let me know if you prefer the temperature in Celsius or Fahrenheit.', refusal=None, role='assistant', annotations=[], audio=None, function_call=None, tool_calls=None)"
      ]
     },
     "execution_count": 27,
     "metadata": {},
     "output_type": "execute_result"
    }
   ],
   "source": [
    "messages = []\n",
    "messages.append({\"role\": \"system\", \"content\": \"Don't make assumptions about what values to plug into functions. Ask for clarification if a user request is ambiguous.\"})\n",
    "messages.append({\"role\": \"user\", \"content\": \"what is the weather going to be like in Los Angeles, CA over the next x days\"})\n",
    "chat_response = chat_completion_request(\n",
    "    messages, tools=tools\n",
    ")\n",
    "assistant_message = chat_response.choices[0].message\n",
    "messages.append(assistant_message)\n",
    "assistant_message"
   ]
  },
  {
   "cell_type": "code",
   "execution_count": 28,
   "id": "04814e0a-2877-44d7-a9aa-17de474926fe",
   "metadata": {},
   "outputs": [
    {
     "data": {
      "text/plain": [
       "Choice(finish_reason='stop', index=0, logprobs=None, message=ChatCompletionMessage(content='Would you like the temperature in Celsius or Fahrenheit for the 5-day weather forecast in Los Angeles, CA?', refusal=None, role='assistant', annotations=[], audio=None, function_call=None, tool_calls=None))"
      ]
     },
     "execution_count": 28,
     "metadata": {},
     "output_type": "execute_result"
    }
   ],
   "source": [
    "messages.append({\"role\": \"user\", \"content\": \"5 days\"})\n",
    "chat_response = chat_completion_request(\n",
    "    messages, tools=tools\n",
    ")\n",
    "chat_response.choices[0]\n",
    "\n"
   ]
  },
  {
   "cell_type": "code",
   "execution_count": 29,
   "id": "8b493b5e-6621-43e6-bb7b-1dcaf4140fe8",
   "metadata": {},
   "outputs": [
    {
     "data": {
      "text/plain": [
       "ChatCompletionMessage(content=None, refusal=None, role='assistant', annotations=[], audio=None, function_call=None, tool_calls=[ChatCompletionMessageToolCall(id='call_O29aLpI4DXmRtYEqjQ5kY18b', function=Function(arguments='{\"location\":\"Toronto, Canada\",\"format\":\"celsius\",\"num_days\":1}', name='get_n_day_weather_forecast'), type='function')])"
      ]
     },
     "execution_count": 29,
     "metadata": {},
     "output_type": "execute_result"
    }
   ],
   "source": [
    "# in this cell we force the model to use get_n_day_weather_forecast\n",
    "messages = []\n",
    "messages.append({\"role\": \"system\", \"content\": \"Don't make assumptions about what values to plug into functions. Ask for clarification if a user request is ambiguous.\"})\n",
    "messages.append({\"role\": \"user\", \"content\": \"Give me a weather report for Toronto, Canada.\"})\n",
    "chat_response = chat_completion_request(\n",
    "    messages, tools=tools, tool_choice={\"type\": \"function\", \"function\": {\"name\": \"get_n_day_weather_forecast\"}}\n",
    ")\n",
    "chat_response.choices[0].message"
   ]
  },
  {
   "cell_type": "code",
   "execution_count": 30,
   "id": "c52e60f4-ca12-491d-849d-07302f124948",
   "metadata": {},
   "outputs": [
    {
     "data": {
      "text/plain": [
       "ChatCompletionMessage(content='Would you like the current weather in Toronto, or a weather forecast for the upcoming days? Additionally, do you prefer the temperature in Celsius or Fahrenheit?', refusal=None, role='assistant', annotations=[], audio=None, function_call=None, tool_calls=None)"
      ]
     },
     "execution_count": 30,
     "metadata": {},
     "output_type": "execute_result"
    }
   ],
   "source": [
    "# if we don't force the model to use get_n_day_weather_forecast it may not\n",
    "messages = []\n",
    "messages.append({\"role\": \"system\", \"content\": \"Don't make assumptions about what values to plug into functions. Ask for clarification if a user request is ambiguous.\"})\n",
    "messages.append({\"role\": \"user\", \"content\": \"Give me a weather report for Toronto, Canada.\"})\n",
    "chat_response = chat_completion_request(\n",
    "    messages, tools=tools\n",
    ")\n",
    "chat_response.choices[0].message"
   ]
  },
  {
   "cell_type": "code",
   "execution_count": 31,
   "id": "bbafb11f-d7f5-43b4-8dbd-8ce46de8bd8e",
   "metadata": {},
   "outputs": [
    {
     "data": {
      "text/plain": [
       "ChatCompletionMessage(content='Sure, I will get the current weather in Celsius for Toronto, Canada. Please hold on a moment.', refusal=None, role='assistant', annotations=[], audio=None, function_call=None, tool_calls=None)"
      ]
     },
     "execution_count": 31,
     "metadata": {},
     "output_type": "execute_result"
    }
   ],
   "source": [
    "messages = []\n",
    "messages.append({\"role\": \"system\", \"content\": \"Don't make assumptions about what values to plug into functions. Ask for clarification if a user request is ambiguous.\"})\n",
    "messages.append({\"role\": \"user\", \"content\": \"Give me the current weather (use Celcius) for Toronto, Canada.\"})\n",
    "chat_response = chat_completion_request(\n",
    "    messages, tools=tools, tool_choice=\"none\"\n",
    ")\n",
    "chat_response.choices[0].message\n"
   ]
  },
  {
   "cell_type": "code",
   "execution_count": 32,
   "id": "e602c80e-3262-4a11-8da6-3136c575a42b",
   "metadata": {},
   "outputs": [
    {
     "data": {
      "text/plain": [
       "[ChatCompletionMessageToolCall(id='call_nCS3uEkFyST9TNPQoAxSqZ4h', function=Function(arguments='{\"location\": \"San Francisco, CA\", \"format\": \"fahrenheit\", \"num_days\": 4}', name='get_n_day_weather_forecast'), type='function'),\n",
       " ChatCompletionMessageToolCall(id='call_rMtF8O4nGpKWdQxLVEsib7IC', function=Function(arguments='{\"location\": \"Glasgow, UK\", \"format\": \"celsius\", \"num_days\": 4}', name='get_n_day_weather_forecast'), type='function')]"
      ]
     },
     "execution_count": 32,
     "metadata": {},
     "output_type": "execute_result"
    }
   ],
   "source": [
    "messages = []\n",
    "messages.append({\"role\": \"system\", \"content\": \"Don't make assumptions about what values to plug into functions. Ask for clarification if a user request is ambiguous.\"})\n",
    "messages.append({\"role\": \"user\", \"content\": \"what is the weather going to be like in San Francisco and Glasgow over the next 4 days\"})\n",
    "chat_response = chat_completion_request(\n",
    "    messages, tools=tools, model=GPT_MODEL\n",
    ")\n",
    "\n",
    "assistant_message = chat_response.choices[0].message.tool_calls\n",
    "assistant_message"
   ]
  },
  {
   "cell_type": "code",
   "execution_count": null,
   "id": "b6d07901-86f1-4ea8-b8f8-68f151f509e7",
   "metadata": {},
   "outputs": [],
   "source": []
  }
 ],
 "metadata": {
  "kernelspec": {
   "display_name": "Python 3 (ipykernel)",
   "language": "python",
   "name": "python3"
  },
  "language_info": {
   "codemirror_mode": {
    "name": "ipython",
    "version": 3
   },
   "file_extension": ".py",
   "mimetype": "text/x-python",
   "name": "python",
   "nbconvert_exporter": "python",
   "pygments_lexer": "ipython3",
   "version": "3.13.3"
  }
 },
 "nbformat": 4,
 "nbformat_minor": 5
}
