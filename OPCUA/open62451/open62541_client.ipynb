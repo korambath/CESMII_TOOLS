{
 "cells": [
  {
   "cell_type": "code",
   "execution_count": 1,
   "id": "7911e492-28d8-4317-86e0-d725cf5cf407",
   "metadata": {},
   "outputs": [],
   "source": [
    "from opcua import Client\n",
    "import datetime\n",
    "import time\n",
    "import pandas as pd\n",
    "import matplotlib.pyplot as plt\n",
    "from opcua import Client,ua\n",
    "import opcua\n",
    "from time import sleep"
   ]
  },
  {
   "cell_type": "code",
   "execution_count": 2,
   "id": "f201965a-d06c-400f-bb03-b6d2ba3f656f",
   "metadata": {},
   "outputs": [
    {
     "name": "stderr",
     "output_type": "stream",
     "text": [
      "Requested secure channel timeout to be 3600000ms, got 600000ms instead\n"
     ]
    }
   ],
   "source": [
    "#client = Client(\"opc.tcp://192.168.1.6:4840\")\n",
    "client = Client(\"opc.tcp://localhost:4840\")\n",
    "client.connect()"
   ]
  },
  {
   "cell_type": "code",
   "execution_count": 3,
   "id": "87948a66-6d5d-4321-8c17-ef365d57a766",
   "metadata": {},
   "outputs": [
    {
     "name": "stdout",
     "output_type": "stream",
     "text": [
      "Walking nodes for user-writable variables...\n",
      "Writable variable: /Root/Objects/CESMII Furnace/Furnace Door State (ns=2;s=C1_CF1_State)\n",
      "Writable variable: /Root/Types/ObjectTypes/BaseObjectType/ServerDiagnosticsType/EnabledFlag (i=2025)\n",
      "Writable variable: /Root/Types/ObjectTypes/BaseObjectType/ServerType/ServerDiagnostics/EnabledFlag (i=3114)\n",
      "Done.\n"
     ]
    }
   ],
   "source": [
    "root = client.get_root_node()\n",
    "print(\"Walking nodes for user-writable variables...\")\n",
    "walk_nodes = []\n",
    "\n",
    "walk_nodes.append((\"\", root))\n",
    "while len(walk_nodes) > 0:\n",
    "        (path, node) = walk_nodes.pop(0)\n",
    "        nodeName = str(node.get_browse_name().Name)\n",
    "        #print(\"Variable: \" + path + \"/\" + nodeName + \" (\" + node.nodeid.to_string() + \")\")\n",
    "        try:\n",
    "            if ua.AccessLevel.CurrentWrite in node.get_user_access_level():\n",
    "                print(\"Writable variable: \" + path + \"/\" + nodeName + \" (\" + node.nodeid.to_string() + \")\")\n",
    "        except opcua.ua.uaerrors._auto.BadAttributeIdInvalid:\n",
    "                     _foo = None # do nothing\n",
    "        children = node.get_children()\n",
    "        for child in children:\n",
    "                walk_nodes.append((path + \"/\" + nodeName, child))\n",
    "\n",
    "print(\"Done.\");"
   ]
  },
  {
   "cell_type": "code",
   "execution_count": 4,
   "id": "a33ac1fe-cae9-442c-86df-dcd409b9bad4",
   "metadata": {},
   "outputs": [
    {
     "data": {
      "text/plain": [
       "[Node(TwoByteNodeId(i=85)),\n",
       " Node(TwoByteNodeId(i=86)),\n",
       " Node(TwoByteNodeId(i=87))]"
      ]
     },
     "execution_count": 4,
     "metadata": {},
     "output_type": "execute_result"
    }
   ],
   "source": [
    "root_node = client.get_root_node()\n",
    "root_node.get_children()\n"
   ]
  },
  {
   "cell_type": "code",
   "execution_count": 5,
   "id": "14d299d3-f246-49cf-9bc7-1b419eedc441",
   "metadata": {},
   "outputs": [
    {
     "data": {
      "text/plain": [
       "Node(TwoByteNodeId(i=85))"
      ]
     },
     "execution_count": 5,
     "metadata": {},
     "output_type": "execute_result"
    }
   ],
   "source": [
    "object_node = client.get_objects_node()\n",
    "object_node"
   ]
  },
  {
   "cell_type": "code",
   "execution_count": 6,
   "id": "cc278660-24da-4faa-9aec-8795a51224b5",
   "metadata": {},
   "outputs": [
    {
     "name": "stdout",
     "output_type": "stream",
     "text": [
      "Namespace : ['http://opcfoundation.org/UA/', 'urn:open62541.server.application', 'CESMII']\n"
     ]
    }
   ],
   "source": [
    "print(\"Namespace : \" + str(client.get_namespace_array()))"
   ]
  },
  {
   "cell_type": "code",
   "execution_count": 7,
   "id": "75e510ab-a496-484b-a6ea-659bf8845d89",
   "metadata": {},
   "outputs": [
    {
     "name": "stdout",
     "output_type": "stream",
     "text": [
      "Objects = i=85\n"
     ]
    }
   ],
   "source": [
    "objects=client.get_objects_node()\n",
    "print(\"Objects = \" + str(objects))"
   ]
  },
  {
   "cell_type": "code",
   "execution_count": 8,
   "id": "4aede64c-6db4-449b-ad85-81d73fb955a2",
   "metadata": {},
   "outputs": [
    {
     "data": {
      "text/plain": [
       "[Node(FourByteNodeId(i=23470)),\n",
       " Node(FourByteNodeId(i=2253)),\n",
       " Node(StringNodeId(ns=2;s=C1_TemperatureSensor)),\n",
       " Node(StringNodeId(ns=2;s=C1_Furnace))]"
      ]
     },
     "execution_count": 8,
     "metadata": {},
     "output_type": "execute_result"
    }
   ],
   "source": [
    "objects.get_children()"
   ]
  },
  {
   "cell_type": "code",
   "execution_count": 9,
   "id": "8657f61e-86bc-4831-97c6-2d51c8a6d478",
   "metadata": {},
   "outputs": [
    {
     "name": "stdout",
     "output_type": "stream",
     "text": [
      "i=23470\n",
      "i=2253\n",
      "ns=2;s=C1_TemperatureSensor\n",
      "ns=2;s=C1_Furnace\n"
     ]
    }
   ],
   "source": [
    "no_children = len (objects.get_children())\n",
    "for j in range(no_children):\n",
    "    print(objects.get_children()[j])\n",
    "    #print(objects.get_children()[j].get_children())\n"
   ]
  },
  {
   "cell_type": "code",
   "execution_count": 10,
   "id": "36d8f8cf-c59b-4edc-b8cb-713e54760999",
   "metadata": {},
   "outputs": [
    {
     "name": "stdout",
     "output_type": "stream",
     "text": [
      "\n",
      "[Node(FourByteNodeId(i=23488)), Node(FourByteNodeId(i=23479)), Node(FourByteNodeId(i=23476))]\n",
      "\n",
      "[Node(FourByteNodeId(i=2994)), Node(FourByteNodeId(i=2267)), Node(FourByteNodeId(i=2255)), Node(FourByteNodeId(i=2254)), Node(FourByteNodeId(i=24226)), Node(FourByteNodeId(i=2296)), Node(FourByteNodeId(i=2295)), Node(FourByteNodeId(i=2274)), Node(FourByteNodeId(i=2268)), Node(FourByteNodeId(i=2256)), Node(FourByteNodeId(i=17594)), Node(FourByteNodeId(i=11715)), Node(FourByteNodeId(i=11492))]\n",
      "\n",
      "[Node(StringNodeId(ns=2;s=C1_TS1_ManufactureName)), Node(StringNodeId(ns=2;s=C1_TS1_ModelNumber)), Node(StringNodeId(ns=2;s=C1_TS1_Temperature))]\n",
      "\n",
      "[Node(StringNodeId(ns=2;s=C1_CF1_ManufactureName)), Node(StringNodeId(ns=2;s=C1_CF1_ModelNumber)), Node(StringNodeId(ns=2;s=C1_CF1_State))]\n"
     ]
    }
   ],
   "source": [
    "no_children = len (objects.get_children())\n",
    "for j in range(no_children):\n",
    "    #print(objects.get_children()[j])\n",
    "    print(\"\\n\" +str ( objects.get_children()[j].get_children()))\n",
    "\n"
   ]
  },
  {
   "cell_type": "code",
   "execution_count": 11,
   "id": "4260f703-aced-44a9-8fab-1d85e8c9dbb6",
   "metadata": {},
   "outputs": [
    {
     "name": "stdout",
     "output_type": "stream",
     "text": [
      "i=23470\n",
      "i=2253\n",
      "ns=2;s=C1_TemperatureSensor\n",
      "ns=2;s=C1_Furnace\n"
     ]
    }
   ],
   "source": [
    "print(objects.get_children()[0])\n",
    "print(objects.get_children()[1])\n",
    "print(objects.get_children()[2])\n",
    "print(objects.get_children()[3])\n"
   ]
  },
  {
   "cell_type": "code",
   "execution_count": 12,
   "id": "5f162a3e-10ce-4ffb-bfd7-da6a81ec5175",
   "metadata": {},
   "outputs": [
    {
     "data": {
      "text/plain": [
       "[Node(StringNodeId(ns=2;s=C1_TS1_ManufactureName)),\n",
       " Node(StringNodeId(ns=2;s=C1_TS1_ModelNumber)),\n",
       " Node(StringNodeId(ns=2;s=C1_TS1_Temperature))]"
      ]
     },
     "execution_count": 12,
     "metadata": {},
     "output_type": "execute_result"
    }
   ],
   "source": [
    "objects.get_children()[2].get_children()"
   ]
  },
  {
   "cell_type": "code",
   "execution_count": 13,
   "id": "e7d1795a-d2cc-42bd-93ec-dcd4f97c3837",
   "metadata": {},
   "outputs": [
    {
     "data": {
      "text/plain": [
       "[Node(StringNodeId(ns=2;s=C1_CF1_ManufactureName)),\n",
       " Node(StringNodeId(ns=2;s=C1_CF1_ModelNumber)),\n",
       " Node(StringNodeId(ns=2;s=C1_CF1_State))]"
      ]
     },
     "execution_count": 13,
     "metadata": {},
     "output_type": "execute_result"
    }
   ],
   "source": [
    "objects.get_children()[3].get_children()"
   ]
  },
  {
   "cell_type": "code",
   "execution_count": 14,
   "id": "731874b0-b996-47d4-9664-ced215be4c3b",
   "metadata": {},
   "outputs": [
    {
     "name": "stdout",
     "output_type": "stream",
     "text": [
      "ns=2;s=C1_TemperatureSensor\n"
     ]
    }
   ],
   "source": [
    "print(objects.get_children()[2])"
   ]
  },
  {
   "cell_type": "code",
   "execution_count": 15,
   "id": "b9229709-108c-450c-aa96-f9023663cf70",
   "metadata": {},
   "outputs": [],
   "source": [
    "tempsens= objects.get_children()[2]"
   ]
  },
  {
   "cell_type": "code",
   "execution_count": 16,
   "id": "952762d6-36dd-482a-94e2-ee84f904cd1b",
   "metadata": {},
   "outputs": [
    {
     "name": "stdout",
     "output_type": "stream",
     "text": [
      "\n",
      "value  for Attribute ns=2;s=C1_TS1_ManufactureName is CESMII Sensors Inc.\n",
      "\n",
      "value  for Attribute ns=2;s=C1_TS1_ModelNumber is 3000\n",
      "\n",
      "value  for Attribute ns=2;s=C1_TS1_Temperature is 70.34153747558594\n"
     ]
    }
   ],
   "source": [
    "for i in tempsens.get_children():\n",
    "      i.get_value()\n",
    "      #print(\"i value \" + str(i.get_value()))\n",
    "      print(\"\\nvalue  for Attribute \" + str(i) + \" is \" + str(i.get_value()))"
   ]
  },
  {
   "cell_type": "code",
   "execution_count": 17,
   "id": "4da61938-f3d0-4d4c-b9a1-4b0df3192f62",
   "metadata": {},
   "outputs": [
    {
     "name": "stdout",
     "output_type": "stream",
     "text": [
      "30.136972427368164\n"
     ]
    }
   ],
   "source": [
    "\n",
    "Temp = client.get_node(\"ns=2;s=C1_TS1_Temperature\")\n",
    "#Temp.get_value()\n",
    "Temperature = Temp.get_value()\n",
    "print (Temperature)"
   ]
  },
  {
   "cell_type": "code",
   "execution_count": 18,
   "id": "fa2a2827-787d-427e-8a35-61a334c4bad0",
   "metadata": {},
   "outputs": [
    {
     "name": "stdout",
     "output_type": "stream",
     "text": [
      "72.10029602050781\n",
      "84.24584197998047\n",
      "58.11454391479492\n",
      "36.26002502441406\n",
      "92.13388061523438\n",
      "31.361682891845703\n",
      "52.825042724609375\n",
      "90.85186767578125\n",
      "32.97588348388672\n",
      "49.22712326049805\n"
     ]
    }
   ],
   "source": [
    "import pandas as pd\n",
    "df = pd.DataFrame(columns=['Temperature'])\n",
    "i=0\n",
    "while i < 10:\n",
    "    print (Temp.get_value())\n",
    "    df = df.append({'Temperature': Temp.get_value()}, ignore_index=True)\n",
    "    i += 1\n",
    "    #sleep(1)"
   ]
  },
  {
   "cell_type": "code",
   "execution_count": 19,
   "id": "964d6fc6-3fe0-4acf-90c4-e602532077ef",
   "metadata": {},
   "outputs": [
    {
     "data": {
      "image/png": "[encoded data removed]",
      "text/plain": [
       "<Figure size 432x288 with 1 Axes>"
      ]
     },
     "metadata": {
      "needs_background": "light"
     },
     "output_type": "display_data"
    }
   ],
   "source": [
    "import matplotlib.pyplot as plt\n",
    "df.plot()\n",
    "plt.show()"
   ]
  },
  {
   "cell_type": "code",
   "execution_count": 20,
   "id": "cffa2ab0-693a-4ad8-8a0c-c086ae0b9ffb",
   "metadata": {},
   "outputs": [
    {
     "data": {
      "text/plain": [
       "[Node(StringNodeId(ns=2;s=C1_TS1_ManufactureName)),\n",
       " Node(StringNodeId(ns=2;s=C1_TS1_ModelNumber)),\n",
       " Node(StringNodeId(ns=2;s=C1_TS1_Temperature))]"
      ]
     },
     "execution_count": 20,
     "metadata": {},
     "output_type": "execute_result"
    }
   ],
   "source": [
    "tempsens.get_children()"
   ]
  },
  {
   "cell_type": "code",
   "execution_count": 21,
   "id": "d3d970fa-6f23-49cc-88f4-11d0805532a4",
   "metadata": {},
   "outputs": [
    {
     "name": "stdout",
     "output_type": "stream",
     "text": [
      "ns=2;s=C1_Furnace\n"
     ]
    }
   ],
   "source": [
    "print(objects.get_children()[3])"
   ]
  },
  {
   "cell_type": "code",
   "execution_count": 22,
   "id": "8bdfa497-968a-4dc8-8db6-9528f07a24fe",
   "metadata": {},
   "outputs": [
    {
     "data": {
      "text/plain": [
       "Node(StringNodeId(ns=2;s=C1_Furnace))"
      ]
     },
     "execution_count": 22,
     "metadata": {},
     "output_type": "execute_result"
    }
   ],
   "source": [
    "furnace = objects.get_children()[3]\n",
    "furnace"
   ]
  },
  {
   "cell_type": "code",
   "execution_count": 23,
   "id": "4c330527-5308-48f9-8770-4391fa92fa23",
   "metadata": {},
   "outputs": [
    {
     "name": "stdout",
     "output_type": "stream",
     "text": [
      "\n",
      "value  for Attribute ns=2;s=C1_CF1_ManufactureName is Cesmii Furnace Inc.\n",
      "\n",
      "value  for Attribute ns=2;s=C1_CF1_ModelNumber is 9000\n",
      "\n",
      "value  for Attribute ns=2;s=C1_CF1_State is True\n"
     ]
    }
   ],
   "source": [
    "for i in furnace.get_children():\n",
    "      #print(i)\n",
    "      i.get_value()\n",
    "      print(\"\\nvalue  for Attribute \" + str(i) + \" is \" + str(i.get_value()))"
   ]
  },
  {
   "cell_type": "code",
   "execution_count": 24,
   "id": "6537e76e-6a17-418c-a3cf-21630ecda618",
   "metadata": {},
   "outputs": [
    {
     "name": "stdout",
     "output_type": "stream",
     "text": [
      "Initial Value: True\n"
     ]
    },
    {
     "data": {
      "text/plain": [
       "True"
      ]
     },
     "execution_count": 24,
     "metadata": {},
     "output_type": "execute_result"
    }
   ],
   "source": [
    "state = client.get_node(\"ns=2;s=C1_CF1_State\")\n",
    "print(\"Initial Value: {}\".format(state.get_value()))\n",
    "state.get_value()  "
   ]
  },
  {
   "cell_type": "code",
   "execution_count": 25,
   "id": "c071acff-03dd-44a5-abbc-b0ad5452370b",
   "metadata": {},
   "outputs": [
    {
     "data": {
      "text/plain": [
       "False"
      ]
     },
     "execution_count": 25,
     "metadata": {},
     "output_type": "execute_result"
    }
   ],
   "source": [
    "state.set_value(False) \n",
    "state.get_value() "
   ]
  },
  {
   "cell_type": "code",
   "execution_count": 26,
   "id": "c35ae6a4-d806-46f4-a7cd-35eebd0175f9",
   "metadata": {},
   "outputs": [
    {
     "data": {
      "text/plain": [
       "True"
      ]
     },
     "execution_count": 26,
     "metadata": {},
     "output_type": "execute_result"
    }
   ],
   "source": [
    "state.set_value(True) \n",
    "state.get_value() "
   ]
  },
  {
   "cell_type": "code",
   "execution_count": 27,
   "id": "15d51ed7-b0cc-4a91-b071-51fdadbb9a78",
   "metadata": {
    "tags": []
   },
   "outputs": [
    {
     "name": "stdout",
     "output_type": "stream",
     "text": [
      "Client Offline\n"
     ]
    }
   ],
   "source": [
    "client.close_session()\n",
    "print(\"Client Offline\")"
   ]
  },
  {
   "cell_type": "code",
   "execution_count": null,
   "id": "007e4a15-1258-4ab7-9514-af0f00161871",
   "metadata": {},
   "outputs": [],
   "source": []
  }
 ],
 "metadata": {
  "kernelspec": {
   "display_name": "Python 3 (ipykernel)",
   "language": "python",
   "name": "python3"
  },
  "language_info": {
   "codemirror_mode": {
    "name": "ipython",
    "version": 3
   },
   "file_extension": ".py",
   "mimetype": "text/x-python",
   "name": "python",
   "nbconvert_exporter": "python",
   "pygments_lexer": "ipython3",
   "version": "3.8.2"
  }
 },
 "nbformat": 4,
 "nbformat_minor": 5
}
