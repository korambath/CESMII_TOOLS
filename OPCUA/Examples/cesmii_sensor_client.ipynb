{
 "cells": [
  {
   "cell_type": "code",
   "execution_count": 1,
   "id": "7911e492-28d8-4317-86e0-d725cf5cf407",
   "metadata": {},
   "outputs": [],
   "source": [
    "from opcua import Client\n",
    "from time import sleep"
   ]
  },
  {
   "cell_type": "code",
   "execution_count": 2,
   "id": "f201965a-d06c-400f-bb03-b6d2ba3f656f",
   "metadata": {},
   "outputs": [],
   "source": [
    "client = Client(\"opc.tcp://192.168.1.6:62541\")\n",
    "client.connect()"
   ]
  },
  {
   "cell_type": "code",
   "execution_count": 3,
   "id": "a33ac1fe-cae9-442c-86df-dcd409b9bad4",
   "metadata": {},
   "outputs": [
    {
     "data": {
      "text/plain": [
       "Node(TwoByteNodeId(i=84))"
      ]
     },
     "execution_count": 3,
     "metadata": {},
     "output_type": "execute_result"
    }
   ],
   "source": [
    "root_node = client.get_root_node()\n",
    "root_node"
   ]
  },
  {
   "cell_type": "code",
   "execution_count": 4,
   "id": "14d299d3-f246-49cf-9bc7-1b419eedc441",
   "metadata": {},
   "outputs": [
    {
     "data": {
      "text/plain": [
       "Node(TwoByteNodeId(i=85))"
      ]
     },
     "execution_count": 4,
     "metadata": {},
     "output_type": "execute_result"
    }
   ],
   "source": [
    "object_node = client.get_objects_node()\n",
    "object_node"
   ]
  },
  {
   "cell_type": "code",
   "execution_count": 5,
   "id": "cc278660-24da-4faa-9aec-8795a51224b5",
   "metadata": {},
   "outputs": [
    {
     "name": "stdout",
     "output_type": "stream",
     "text": [
      "Namespace : ['http://opcfoundation.org/UA/', 'urn:freeopcua:python:server', 'CESMII']\n"
     ]
    }
   ],
   "source": [
    "print(\"Namespace : \" + str(client.get_namespace_array()))"
   ]
  },
  {
   "cell_type": "code",
   "execution_count": 6,
   "id": "75e510ab-a496-484b-a6ea-659bf8845d89",
   "metadata": {},
   "outputs": [
    {
     "name": "stdout",
     "output_type": "stream",
     "text": [
      "Objects = i=85\n"
     ]
    }
   ],
   "source": [
    "objects=client.get_objects_node()\n",
    "print(\"Objects = \" + str(objects))"
   ]
  },
  {
   "cell_type": "code",
   "execution_count": 7,
   "id": "4260f703-aced-44a9-8fab-1d85e8c9dbb6",
   "metadata": {},
   "outputs": [
    {
     "name": "stdout",
     "output_type": "stream",
     "text": [
      "i=2253\n",
      "ns=2;s=\"C_TS1\"\n",
      "ns=2;s=\"C_CF1\"\n"
     ]
    }
   ],
   "source": [
    "print(objects.get_children()[0])\n",
    "print(objects.get_children()[1])\n",
    "print(objects.get_children()[2])"
   ]
  },
  {
   "cell_type": "code",
   "execution_count": 8,
   "id": "731874b0-b996-47d4-9664-ced215be4c3b",
   "metadata": {},
   "outputs": [
    {
     "name": "stdout",
     "output_type": "stream",
     "text": [
      "ns=2;s=\"C_TS1\"\n"
     ]
    }
   ],
   "source": [
    "print(objects.get_children()[1])"
   ]
  },
  {
   "cell_type": "code",
   "execution_count": 9,
   "id": "b9229709-108c-450c-aa96-f9023663cf70",
   "metadata": {},
   "outputs": [
    {
     "data": {
      "text/plain": [
       "[Node(StringNodeId(ns=2;s=\"C_TS1_ManfctrName\")),\n",
       " Node(StringNodeId(ns=2;s=\"C_TS1_SerialNumber\")),\n",
       " Node(StringNodeId(ns=2;s=\"C_TS1_Temperature\")),\n",
       " Node(StringNodeId(ns=2;s=\"C_TS1_Time\"))]"
      ]
     },
     "execution_count": 9,
     "metadata": {},
     "output_type": "execute_result"
    }
   ],
   "source": [
    "tempsens= objects.get_children()[1]\n",
    "tempsens.get_children()"
   ]
  },
  {
   "cell_type": "code",
   "execution_count": 10,
   "id": "952762d6-36dd-482a-94e2-ee84f904cd1b",
   "metadata": {},
   "outputs": [
    {
     "name": "stdout",
     "output_type": "stream",
     "text": [
      "i value CESMII Sensor\n",
      "i value 12345678\n",
      "i value 82.59816556524495\n",
      "i value 2022-03-04 14:49:21.339721\n"
     ]
    }
   ],
   "source": [
    "for i in tempsens.get_children():\n",
    "      i.get_value()\n",
    "      print(\"i value \" + str(i.get_value()))"
   ]
  },
  {
   "cell_type": "code",
   "execution_count": 11,
   "id": "cf082dbb-c4df-4627-976f-8af09e92d75f",
   "metadata": {},
   "outputs": [
    {
     "name": "stdout",
     "output_type": "stream",
     "text": [
      "i value CESMII Furnace\n",
      "i value 98765432\n",
      "i value False\n"
     ]
    }
   ],
   "source": [
    "furnace= objects.get_children()[2]\n",
    "for i in furnace.get_children():\n",
    "      i.get_value()\n",
    "      print(\"i value \" + str(i.get_value()))"
   ]
  },
  {
   "cell_type": "code",
   "execution_count": 12,
   "id": "4da61938-f3d0-4d4c-b9a1-4b0df3192f62",
   "metadata": {},
   "outputs": [
    {
     "data": {
      "text/plain": [
       "49.3825878715748"
      ]
     },
     "execution_count": 12,
     "metadata": {},
     "output_type": "execute_result"
    }
   ],
   "source": [
    "Temp = client.get_node('ns=2;s=\"C_TS1_Temperature\"')\n",
    "Temp.get_value()"
   ]
  },
  {
   "cell_type": "code",
   "execution_count": 13,
   "id": "fa2a2827-787d-427e-8a35-61a334c4bad0",
   "metadata": {},
   "outputs": [
    {
     "name": "stdout",
     "output_type": "stream",
     "text": [
      "3.2532670242106265\n",
      "55.40663887456376\n",
      "10.181400683913411\n",
      "24.429203731710846\n",
      "63.428615257702305\n",
      "42.54823554746989\n",
      "67.9538181082332\n",
      "7.010789472111433\n",
      "90.0182279854728\n",
      "22.55514292559335\n"
     ]
    }
   ],
   "source": [
    "import pandas as pd\n",
    "df = pd.DataFrame(columns=['Temperature'])\n",
    "i=0\n",
    "while i < 10:\n",
    "    Temp = client.get_node('ns=2;s=\"C_TS1_Temperature\"')\n",
    "    print (Temp.get_value())\n",
    "    df = df.append({'Temperature': Temp.get_value()}, ignore_index=True)\n",
    "    sleep(2)\n",
    "    i += 1"
   ]
  },
  {
   "cell_type": "code",
   "execution_count": 14,
   "id": "964d6fc6-3fe0-4acf-90c4-e602532077ef",
   "metadata": {},
   "outputs": [
    {
     "data": {
      "image/png": "[encoded data removed]",
      "text/plain": [
       "<Figure size 432x288 with 1 Axes>"
      ]
     },
     "metadata": {
      "needs_background": "light"
     },
     "output_type": "display_data"
    }
   ],
   "source": [
    "import matplotlib.pyplot as plt\n",
    "df.plot()\n",
    "plt.show()"
   ]
  },
  {
   "cell_type": "code",
   "execution_count": 15,
   "id": "cffa2ab0-693a-4ad8-8a0c-c086ae0b9ffb",
   "metadata": {},
   "outputs": [
    {
     "data": {
      "text/plain": [
       "[Node(StringNodeId(ns=2;s=\"C_CF1_ManfctrName\")),\n",
       " Node(StringNodeId(ns=2;s=\"C_CF1_SerialNumber\")),\n",
       " Node(StringNodeId(ns=2;s=\"C_CF1_DoorState\"))]"
      ]
     },
     "execution_count": 15,
     "metadata": {},
     "output_type": "execute_result"
    }
   ],
   "source": [
    "furnace.get_children()"
   ]
  },
  {
   "cell_type": "code",
   "execution_count": 16,
   "id": "e3a65650-b561-4b77-9055-7dc6cae260dd",
   "metadata": {},
   "outputs": [
    {
     "data": {
      "text/plain": [
       "Node(StringNodeId(ns=2;s=\"C_CF1_DoorState))"
      ]
     },
     "execution_count": 16,
     "metadata": {},
     "output_type": "execute_result"
    }
   ],
   "source": [
    "state = client.get_node('ns=2;s=\"C_CF1_DoorState')\n",
    "state"
   ]
  },
  {
   "cell_type": "code",
   "execution_count": 17,
   "id": "00ad4d05-8ae3-4160-8979-acdee94f632c",
   "metadata": {},
   "outputs": [
    {
     "data": {
      "text/plain": [
       "Node(StringNodeId(ns=2;s=\"C_CF1_DoorState\"))"
      ]
     },
     "execution_count": 17,
     "metadata": {},
     "output_type": "execute_result"
    }
   ],
   "source": [
    "furnace= objects.get_children()[2]\n",
    "furnace.get_children()[2]"
   ]
  },
  {
   "cell_type": "code",
   "execution_count": 18,
   "id": "010ce459-2f11-43bf-a3ab-91d1895d4944",
   "metadata": {},
   "outputs": [
    {
     "data": {
      "text/plain": [
       "False"
      ]
     },
     "execution_count": 18,
     "metadata": {},
     "output_type": "execute_result"
    }
   ],
   "source": [
    "furnace.get_children()[2].get_value()"
   ]
  },
  {
   "cell_type": "code",
   "execution_count": 20,
   "id": "29b62317-1816-46df-89f7-25a59bb6ccb9",
   "metadata": {},
   "outputs": [
    {
     "name": "stderr",
     "output_type": "stream",
     "text": [
      "Exception in thread Thread-9:\n",
      "Traceback (most recent call last):\n",
      "  File \"/Users/ppk/miniconda3/lib/python3.8/threading.py\", line 932, in _bootstrap_inner\n",
      "    self.run()\n",
      "  File \"/Users/ppk/miniconda3/lib/python3.8/site-packages/opcua/client/client.py\", line 66, in run\n",
      "    self.client.open_secure_channel(renew=True)\n",
      "  File \"/Users/ppk/miniconda3/lib/python3.8/site-packages/opcua/client/client.py\", line 335, in open_secure_channel\n",
      "    result = self.uaclient.open_secure_channel(params)\n",
      "  File \"/Users/ppk/miniconda3/lib/python3.8/site-packages/opcua/client/ua_client.py\", line 275, in open_secure_channel\n",
      "    return self._uasocket.open_secure_channel(params)\n",
      "  File \"/Users/ppk/miniconda3/lib/python3.8/site-packages/opcua/client/ua_client.py\", line 207, in open_secure_channel\n",
      "    self._send_request(request, message_type=ua.MessageType.SecureOpen, callback=clb)\n",
      "  File \"/Users/ppk/miniconda3/lib/python3.8/site-packages/opcua/client/ua_client.py\", line 72, in _send_request\n",
      "    self._socket.write(msg)\n",
      "  File \"/Users/ppk/miniconda3/lib/python3.8/site-packages/opcua/common/utils.py\", line 118, in write\n",
      "    self.socket.sendall(data)\n",
      "BrokenPipeError: [Errno 32] Broken pipe\n"
     ]
    }
   ],
   "source": [
    "furnace.get_children()[2].set_value(True)\n",
    "#print(furnace.get_children()[2].get_value())\n",
    "#furnace.get_children()[2].set_value(False)\n",
    "#furnace.get_children()[2].get_value()"
   ]
  },
  {
   "cell_type": "code",
   "execution_count": 25,
   "id": "79e90818-005c-4448-9f98-f9919c30711b",
   "metadata": {},
   "outputs": [
    {
     "name": "stdout",
     "output_type": "stream",
     "text": [
      "state initial value True\n",
      "Set State to True\n"
     ]
    },
    {
     "data": {
      "text/plain": [
       "True"
      ]
     },
     "execution_count": 25,
     "metadata": {},
     "output_type": "execute_result"
    }
   ],
   "source": [
    "state= furnace.get_children()[2]\n",
    "state\n",
    "print(\"state initial value \" + str(state.get_value()))\n",
    "print(\"Set State to True\")\n",
    "state.set_value(True)\n",
    "state.get_value()"
   ]
  },
  {
   "cell_type": "code",
   "execution_count": 26,
   "id": "8bdfa497-968a-4dc8-8db6-9528f07a24fe",
   "metadata": {},
   "outputs": [
    {
     "name": "stdout",
     "output_type": "stream",
     "text": [
      "Client Offline\n"
     ]
    }
   ],
   "source": [
    "client.close_session()\n",
    "print(\"Client Offline\")"
   ]
  },
  {
   "cell_type": "code",
   "execution_count": null,
   "id": "3e4ce6ae-5fa1-40b1-b09d-6bc13af9c552",
   "metadata": {},
   "outputs": [],
   "source": []
  }
 ],
 "metadata": {
  "kernelspec": {
   "display_name": "Python 3 (ipykernel)",
   "language": "python",
   "name": "python3"
  },
  "language_info": {
   "codemirror_mode": {
    "name": "ipython",
    "version": 3
   },
   "file_extension": ".py",
   "mimetype": "text/x-python",
   "name": "python",
   "nbconvert_exporter": "python",
   "pygments_lexer": "ipython3",
   "version": "3.8.2"
  }
 },
 "nbformat": 4,
 "nbformat_minor": 5
}
